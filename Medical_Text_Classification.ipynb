{
 "cells": [
  {
   "cell_type": "markdown",
   "metadata": {
    "slideshow": {
     "slide_type": "-"
    }
   },
   "source": [
    "# Medical Text Classification with IPython Notebook\n",
    "\n",
    "The purpose of this notebook is to show a simple medical text classification workflow using IPython notebook."
   ]
  },
  {
   "cell_type": "markdown",
   "metadata": {},
   "source": [
    "## Standard imports and settings"
   ]
  },
  {
   "cell_type": "code",
   "execution_count": 16,
   "metadata": {
    "collapsed": true
   },
   "outputs": [],
   "source": [
    "%matplotlib inline\n",
    "import matplotlib as mpl\n",
    "mpl.rcParams['font.size'] = 16.0\n",
    "import matplotlib.pyplot as plt\n",
    "import numpy as np\n",
    "import pandas as pd            # process data with pandas dataframe\n",
    "pd.set_option('display.width', 500)\n",
    "pd.set_option('display.max_columns', 100)\n",
    "pd.set_option('display.notebook_repr_html', True)\n",
    "import seaborn as sns\n",
    "sns.set_style(\"whitegrid\")\n",
    "sns.set_context(\"poster\")\n",
    "import time\n",
    "import os"
   ]
  },
  {
   "cell_type": "markdown",
   "metadata": {},
   "source": [
    "## Few words about IPython Notebook\n",
    "\n",
    "**Some of the main features of the IPython Notebook app include:**\n",
    "\n",
    "* In-browser editing for code, with automatic syntax highlighting, indentation, and tab completion.\n",
    "* The ability to execute code from the browser, with the results of computations attached to the code which generated them.\n",
    "* Displaying the result of computation using rich media representations, such as HTML, LaTeX, PNG, SVG, etc, up to publication-quality figures content.\n",
    "* In-browser editing for rich text using the Markdown markup language, which can provide commentary for the code.\n",
    "* The ability to easily include mathematical notation within markdown cells using LaTeX."
   ]
  },
  {
   "cell_type": "markdown",
   "metadata": {
    "collapsed": true
   },
   "source": [
    "**Personal advantages for my projects:**\n",
    "\n",
    "* Great support for ** Interpretable Data Science ** - This greatly contributes to the process of harnessing the medical expertise of the users to train the algorithms better. "
   ]
  },
  {
   "cell_type": "markdown",
   "metadata": {},
   "source": [
    "##  Architecture of IPython notebook"
   ]
  },
  {
   "cell_type": "markdown",
   "metadata": {},
   "source": [
    "<img src=\"images/ipython_architecture.png\">"
   ]
  },
  {
   "cell_type": "markdown",
   "metadata": {},
   "source": [
    "# The data \n",
    "\n",
    "The **Ohsumed** test collection (available at <ftp://medir.ohsu.edu/pub/ohsumed>) is a subset of the MEDLINE database, which is a bibliographic database of important, peer-reviewed medical literature maintained by the National Library of Medicine. The initial subset I consider in the project is the collection consisting of the first 20,000 documents from the 50,216 medical abstracts of the year 1991. The classification scheme consists of the 23 Medical Subject Headings (MeSH) categories of cardiovascular diseases group: \n",
    "\n",
    "| Category      | Description   |        \n",
    "| ------------- | ------------- |\n",
    "| C01 | Bacterial Infections and Mycoses |\n",
    "| C02 | Virus Diseases |\n",
    "| C03 | Parasitic Diseases |\n",
    "| C04 | Neoplasms |\n",
    "| C05 | Musculoskeletal Diseases |\n",
    "| C06 | Digestive System Diseases |\n",
    "| C07 | Stomatognathic Diseases |\n",
    "| C08 | Respiratory Tract Diseases |\n",
    "| C09 | Otorhinolaryngologic Diseases |\n",
    "| C10 | Nervous System Diseases |\n",
    "| C11 | Eye Diseases |\n",
    "| C12 | Urologic and Male Genital Diseases |\n",
    "| C13 | Female Genital Diseases and Pregnancy Complications |\n",
    "| C14 | Cardiovascular Diseases |\n",
    "| C15 | Hemic and Lymphatic Diseases |\n",
    "| C16 | Neonatal Diseases and Abnormalities |\n",
    "| C17 | Skin and Connective Tissue Diseases |\n",
    "| C18 | Nutritional and Metabolic Diseases |\n",
    "| C19 | Endocrine Diseases |\n",
    "| C20 | Immunologic Diseases |\n",
    "| C21 | Disorders of Environmental Origin |\n",
    "| C22 | Animal Diseases |\n",
    "| C23 | Pathological Conditions, Signs and Symptoms |\n",
    "\n",
    "\n",
    "## Downloading the data:\n",
    "\n",
    "* [Cardiovascular diseases abstracts](http://disi.unitn.it/moschitti/corpora/ohsumed-first-20000-docs.tar.gz) (the first 20,000 abstracts of the year 1991)\n",
    "\n",
    "** The following code assumes that the data is extracted into folder with the name 'Data' in the same folder of the IPython notebook**\n",
    "\n",
    "## Storing the data in a sql database\n",
    "\n",
    "The following code iterates over the extracted data and converts the ohsumed directory structure to a single sqlite databse with the data. The original dataset is already divided to Test and Training datasets. We will keep this division."
   ]
  },
  {
   "cell_type": "code",
   "execution_count": 29,
   "metadata": {
    "collapsed": false
   },
   "outputs": [],
   "source": [
    "import sqlite3 as sqlite\n",
    "\n",
    "def get_all_tables(c):\n",
    "    \"\"\"\n",
    "    Helper function - Gets a list of all the tables in the database.\n",
    "    \"\"\"\n",
    "    all_tables = []\n",
    "    c.execute('SELECT name FROM SQLITE_MASTER WHERE type = \"table\"')\n",
    "    for tbl in c:\n",
    "        all_tables.append(tbl[0])\n",
    "    return all_tables\n",
    "\n",
    "def drop_tables(c, tables):\n",
    "    \"\"\"\n",
    "    Helper function - Checks that the specified tables exist, and for those that do, drop them.\n",
    "    \"\"\"\n",
    "    all_tables = get_all_tables(c)\n",
    "    for t in tables:\n",
    "        if t in all_tables:\n",
    "            c.execute('DROP TABLE %s' % t)\n",
    "\n",
    "def create_documents_table(c):\n",
    "    \"\"\"\n",
    "    Helper function - This function uses SQL to create the Documents table\n",
    "    \"\"\"\n",
    "    drop_tables(c, [ 'Documents' ])\n",
    "    c.execute(\"\"\"CREATE TABLE Documents ( \n",
    "            DOCID TEXT PRIMARY KEY,\n",
    "            NOTE_TEXT TEXT, \n",
    "            CATEGORY TEXT\n",
    "        )\"\"\")\n",
    "\n",
    "def add_document(c, docid, text, category):\n",
    "    \"\"\"\n",
    "    Helper function - Adds one document to sql Documents database\n",
    "    \"\"\"\n",
    "    c.execute('insert or replace into Documents values ( ?, ?, ? )', (docid, text, category))\n",
    "\n",
    "def ohsumed2sqlite(src_root_dir, dest_sqlite):\n",
    "    start_time = time.time()\n",
    "    print 'Converting ohsumed directory structure {0} to sqlite database'.format(src_root_dir)\n",
    "\n",
    "    conn_out = sqlite.connect(dest_sqlite)\n",
    "    c_out = conn_out.cursor()\n",
    "\n",
    "    fout = open(dest_sqlite, 'w')\n",
    "    fout.close()\n",
    "\n",
    "    create_documents_table(c_out)\n",
    "    # Process the ohsumed directory\n",
    "    dict = {}\n",
    "    for root, dirs, files in os.walk(src_root_dir):\n",
    "        for f in files:\n",
    "            category = os.path.basename(root) # directory name is the category\n",
    "            with open (os.path.join(root, f), \"r\") as cur_file:\n",
    "                data=cur_file.read()\n",
    "                if f in dict:\n",
    "                    category = dict[f] + ',' + category\n",
    "                dict[f] = category\n",
    "                add_document(c_out, f, data, category)\n",
    "    conn_out.commit()\n",
    "    c_out.close()\n",
    "    print(\"--- ohsumed2sqlite %s seconds ---\" % (time.time() - start_time))"
   ]
  },
  {
   "cell_type": "code",
   "execution_count": 30,
   "metadata": {
    "collapsed": false
   },
   "outputs": [
    {
     "name": "stdout",
     "output_type": "stream",
     "text": [
      "Converting ohsumed directory structure .\\Data\\ohsumed-first-20000-docs\\training to sqlite database\n",
      "--- ohsumed2sqlite 1.50699996948 seconds ---\n",
      "Converting ohsumed directory structure .\\Data\\ohsumed-first-20000-docs\\test to sqlite database\n",
      "--- ohsumed2sqlite 1.83299994469 seconds ---\n"
     ]
    }
   ],
   "source": [
    "# Convert the training data\n",
    "ohsumed2sqlite('.\\\\Data\\\\ohsumed-first-20000-docs\\\\training', 'training.sqlite')\n",
    "\n",
    "# Convert the test data\n",
    "ohsumed2sqlite('.\\\\Data\\\\ohsumed-first-20000-docs\\\\test', 'test.sqlite')"
   ]
  },
  {
   "cell_type": "markdown",
   "metadata": {},
   "source": [
    "## Data exploration and preparation \n",
    "\n"
   ]
  },
  {
   "cell_type": "markdown",
   "metadata": {},
   "source": [
    "### Read the data from the sqlite databases into Pandas dataframes"
   ]
  },
  {
   "cell_type": "code",
   "execution_count": 64,
   "metadata": {
    "collapsed": false
   },
   "outputs": [],
   "source": [
    "con = sqlite.connect('training.sqlite')\n",
    "\n",
    "df_train = pd.read_sql_query(\"SELECT * from Documents\", con)\n",
    "\n",
    "con.close()\n",
    "\n",
    "con = sqlite.connect('test.sqlite')\n",
    "\n",
    "df_test = pd.read_sql_query(\"SELECT * from Documents\", con)\n",
    "\n",
    "con.close()\n"
   ]
  },
  {
   "cell_type": "markdown",
   "metadata": {},
   "source": [
    "### Output a random sample of 20 records"
   ]
  },
  {
   "cell_type": "code",
   "execution_count": 65,
   "metadata": {
    "collapsed": false
   },
   "outputs": [
    {
     "data": {
      "text/html": [
       "<div>\n",
       "<table border=\"1\" class=\"dataframe\">\n",
       "  <thead>\n",
       "    <tr style=\"text-align: right;\">\n",
       "      <th></th>\n",
       "      <th>DOCID</th>\n",
       "      <th>NOTE_TEXT</th>\n",
       "      <th>CATEGORY</th>\n",
       "    </tr>\n",
       "  </thead>\n",
       "  <tbody>\n",
       "    <tr>\n",
       "      <th>1919</th>\n",
       "      <td>0004299</td>\n",
       "      <td>Sensitivity of digoxigenin and biotin labelled probes for detection of human papillomavirus by in situ hybridisation.\\n The sensitivity of digoxigenin and biotin labelled DNA probes for the detect...</td>\n",
       "      <td>C02,C04,C09,C13</td>\n",
       "    </tr>\n",
       "    <tr>\n",
       "      <th>3197</th>\n",
       "      <td>0000531</td>\n",
       "      <td>Absence of brown product FFI in nondiabetic and diabetic rat collagen.\\n Accumulation of brown products in long-lived proteins might be an important factor in determining long-term diabetic compli...</td>\n",
       "      <td>C18</td>\n",
       "    </tr>\n",
       "    <tr>\n",
       "      <th>3861</th>\n",
       "      <td>0007389</td>\n",
       "      <td>Immunoblastic T-cell lymphoma presenting as an eyelid tumor.\\n A 59-year-old white man presented with an ulcerating mass of the left upper eyelid of 6 months' duration.\\n A biopsy specimen of the ...</td>\n",
       "      <td>C04,C20</td>\n",
       "    </tr>\n",
       "    <tr>\n",
       "      <th>1791</th>\n",
       "      <td>0007955</td>\n",
       "      <td>The prevalence of subfertility: a review of the current confusion and a report of two new studies.\\n The difficulties inherent in measuring the prevalence of subfertility are discussed.\\n Four sub...</td>\n",
       "      <td>C12</td>\n",
       "    </tr>\n",
       "    <tr>\n",
       "      <th>714</th>\n",
       "      <td>0000565</td>\n",
       "      <td>Phospholipids from rat, human, and canine gastric mucosa. Composition and metabolism of molecular classes of phosphatidylcholine.\\n To validate a recent proposal that a phospholipid lining with a ...</td>\n",
       "      <td>C06</td>\n",
       "    </tr>\n",
       "    <tr>\n",
       "      <th>60</th>\n",
       "      <td>0005909</td>\n",
       "      <td>Early postoperative care of the cardiac transplantation patient: routine considerations and immunosuppressive therapy.\\n The authors have attempted to outline the current state of the art with res...</td>\n",
       "      <td>C01</td>\n",
       "    </tr>\n",
       "    <tr>\n",
       "      <th>5171</th>\n",
       "      <td>0004416</td>\n",
       "      <td>Serial left ventricular performance evaluated by cardiac catheterization before, immediately after and at 6 months after balloon aortic valvuloplasty.\\n Although impaired ventricular function has ...</td>\n",
       "      <td>C14,C23</td>\n",
       "    </tr>\n",
       "    <tr>\n",
       "      <th>5828</th>\n",
       "      <td>0007682</td>\n",
       "      <td>Longitudinal study of diagnoses in children of women with unipolar and bipolar affective disorder.\\n School-age children of unipolar depressed, bipolar, chronically medically ill, or normal women ...</td>\n",
       "      <td>C23</td>\n",
       "    </tr>\n",
       "    <tr>\n",
       "      <th>3193</th>\n",
       "      <td>0000521</td>\n",
       "      <td>Association of elevated fasting C-peptide level and increased intra-abdominal fat distribution with development of NIDDM in Japanese-American men.\\n The Japanese-American population of King County...</td>\n",
       "      <td>C18</td>\n",
       "    </tr>\n",
       "    <tr>\n",
       "      <th>5269</th>\n",
       "      <td>0005114</td>\n",
       "      <td>Pressure threshold for shock wave induced renal hemorrhage.\\n Studies were performed with an interest in determining a pressure threshold for extracorporeal shock wave induced renal damage.\\n Hist...</td>\n",
       "      <td>C12,C23</td>\n",
       "    </tr>\n",
       "    <tr>\n",
       "      <th>2428</th>\n",
       "      <td>0005912</td>\n",
       "      <td>Brucella endocarditis: the role of combined medical and surgical treatment.\\n Brucella endocarditis, although a rare complication of brucellosis, is the main cause of death related to this disease...</td>\n",
       "      <td>C01,C14</td>\n",
       "    </tr>\n",
       "    <tr>\n",
       "      <th>3818</th>\n",
       "      <td>0006685</td>\n",
       "      <td>Prehospital administration of inhaled metaproterenol.\\n STUDY OBJECTIVES: We conducted a study of the prehospital use of inhaled metaproterenol.\\n DESIGN, SETTING, TYPE OF PARTICIPANTS, AND INTERV...</td>\n",
       "      <td>C08,C20</td>\n",
       "    </tr>\n",
       "    <tr>\n",
       "      <th>5665</th>\n",
       "      <td>0006905</td>\n",
       "      <td>Squamous carcinoma metastatic to the sternum.\\n A 63-year-old man had a 10 x 16-cm sternal mass 18 months after a second aortocoronary bypass operation.\\n The resected lesion was a metastatic tumo...</td>\n",
       "      <td>C04,C23</td>\n",
       "    </tr>\n",
       "    <tr>\n",
       "      <th>3247</th>\n",
       "      <td>0003370</td>\n",
       "      <td>Early detection and treatment of hyperlipidemia: physician practices in Canada.\\n We surveyed primary care physicians in Canada to determine their current practices regarding the detection and tre...</td>\n",
       "      <td>C14,C18</td>\n",
       "    </tr>\n",
       "    <tr>\n",
       "      <th>5230</th>\n",
       "      <td>0004849</td>\n",
       "      <td>Subarachnoid hemorrhage caused by a fungal aneurysm of the vertebral artery as a complication of intracranial aneurysm clipping. Case report.\\n Intracranial aneurysms are an uncommon manifestation...</td>\n",
       "      <td>C01,C10,C14,C23</td>\n",
       "    </tr>\n",
       "    <tr>\n",
       "      <th>1502</th>\n",
       "      <td>0009007</td>\n",
       "      <td>Changes in thermal and mechanical pain thresholds in hand amputees. A clinical and physiological long-term follow-up.\\n In a previous study, allodynia to cold and vibratory stimuli was found in th...</td>\n",
       "      <td>C10</td>\n",
       "    </tr>\n",
       "    <tr>\n",
       "      <th>5565</th>\n",
       "      <td>0006590</td>\n",
       "      <td>Adverse haemodynamic effects of high-dose aprotinin in a paediatric cardiac surgical patient.\\n High-dose aprotinin for reduction of intra- and postoperative blood loss was associated with profoun...</td>\n",
       "      <td>C14,C23</td>\n",
       "    </tr>\n",
       "    <tr>\n",
       "      <th>903</th>\n",
       "      <td>0008463</td>\n",
       "      <td>Primary sclerosing cholangitis.\\n Primary sclerosing cholangitis is a rare disease of unknown etiology.\\n Sclerosis of the bile ducts may actually be the final result of multiple factors such as a...</td>\n",
       "      <td>C06</td>\n",
       "    </tr>\n",
       "    <tr>\n",
       "      <th>380</th>\n",
       "      <td>0005157</td>\n",
       "      <td>Prospective study of estrogen replacement therapy and risk of breast cancer in postmenopausal women [published erratum appears in JAMA 1991 Apr 10;265(14):1828] \\n We prospectively examined the us...</td>\n",
       "      <td>C04</td>\n",
       "    </tr>\n",
       "    <tr>\n",
       "      <th>3246</th>\n",
       "      <td>0003265</td>\n",
       "      <td>The electroretinogram in minimal diabetic retinopathy.\\n The pattern and diffuse flash electroretinograms were measured in 20 normal subjects and 40 diabetic patients who had either normal fundi o...</td>\n",
       "      <td>C18</td>\n",
       "    </tr>\n",
       "  </tbody>\n",
       "</table>\n",
       "</div>"
      ],
      "text/plain": [
       "        DOCID                                                                                                                                                                                                NOTE_TEXT         CATEGORY\n",
       "1919  0004299  Sensitivity of digoxigenin and biotin labelled probes for detection of human papillomavirus by in situ hybridisation.\\n The sensitivity of digoxigenin and biotin labelled DNA probes for the detect...  C02,C04,C09,C13\n",
       "3197  0000531  Absence of brown product FFI in nondiabetic and diabetic rat collagen.\\n Accumulation of brown products in long-lived proteins might be an important factor in determining long-term diabetic compli...              C18\n",
       "3861  0007389  Immunoblastic T-cell lymphoma presenting as an eyelid tumor.\\n A 59-year-old white man presented with an ulcerating mass of the left upper eyelid of 6 months' duration.\\n A biopsy specimen of the ...          C04,C20\n",
       "1791  0007955  The prevalence of subfertility: a review of the current confusion and a report of two new studies.\\n The difficulties inherent in measuring the prevalence of subfertility are discussed.\\n Four sub...              C12\n",
       "714   0000565  Phospholipids from rat, human, and canine gastric mucosa. Composition and metabolism of molecular classes of phosphatidylcholine.\\n To validate a recent proposal that a phospholipid lining with a ...              C06\n",
       "60    0005909  Early postoperative care of the cardiac transplantation patient: routine considerations and immunosuppressive therapy.\\n The authors have attempted to outline the current state of the art with res...              C01\n",
       "5171  0004416  Serial left ventricular performance evaluated by cardiac catheterization before, immediately after and at 6 months after balloon aortic valvuloplasty.\\n Although impaired ventricular function has ...          C14,C23\n",
       "5828  0007682  Longitudinal study of diagnoses in children of women with unipolar and bipolar affective disorder.\\n School-age children of unipolar depressed, bipolar, chronically medically ill, or normal women ...              C23\n",
       "3193  0000521  Association of elevated fasting C-peptide level and increased intra-abdominal fat distribution with development of NIDDM in Japanese-American men.\\n The Japanese-American population of King County...              C18\n",
       "5269  0005114  Pressure threshold for shock wave induced renal hemorrhage.\\n Studies were performed with an interest in determining a pressure threshold for extracorporeal shock wave induced renal damage.\\n Hist...          C12,C23\n",
       "2428  0005912  Brucella endocarditis: the role of combined medical and surgical treatment.\\n Brucella endocarditis, although a rare complication of brucellosis, is the main cause of death related to this disease...          C01,C14\n",
       "3818  0006685  Prehospital administration of inhaled metaproterenol.\\n STUDY OBJECTIVES: We conducted a study of the prehospital use of inhaled metaproterenol.\\n DESIGN, SETTING, TYPE OF PARTICIPANTS, AND INTERV...          C08,C20\n",
       "5665  0006905  Squamous carcinoma metastatic to the sternum.\\n A 63-year-old man had a 10 x 16-cm sternal mass 18 months after a second aortocoronary bypass operation.\\n The resected lesion was a metastatic tumo...          C04,C23\n",
       "3247  0003370  Early detection and treatment of hyperlipidemia: physician practices in Canada.\\n We surveyed primary care physicians in Canada to determine their current practices regarding the detection and tre...          C14,C18\n",
       "5230  0004849  Subarachnoid hemorrhage caused by a fungal aneurysm of the vertebral artery as a complication of intracranial aneurysm clipping. Case report.\\n Intracranial aneurysms are an uncommon manifestation...  C01,C10,C14,C23\n",
       "1502  0009007  Changes in thermal and mechanical pain thresholds in hand amputees. A clinical and physiological long-term follow-up.\\n In a previous study, allodynia to cold and vibratory stimuli was found in th...              C10\n",
       "5565  0006590  Adverse haemodynamic effects of high-dose aprotinin in a paediatric cardiac surgical patient.\\n High-dose aprotinin for reduction of intra- and postoperative blood loss was associated with profoun...          C14,C23\n",
       "903   0008463  Primary sclerosing cholangitis.\\n Primary sclerosing cholangitis is a rare disease of unknown etiology.\\n Sclerosis of the bile ducts may actually be the final result of multiple factors such as a...              C06\n",
       "380   0005157  Prospective study of estrogen replacement therapy and risk of breast cancer in postmenopausal women [published erratum appears in JAMA 1991 Apr 10;265(14):1828] \\n We prospectively examined the us...              C04\n",
       "3246  0003265  The electroretinogram in minimal diabetic retinopathy.\\n The pattern and diffuse flash electroretinograms were measured in 20 normal subjects and 40 diabetic patients who had either normal fundi o...              C18"
      ]
     },
     "execution_count": 65,
     "metadata": {},
     "output_type": "execute_result"
    }
   ],
   "source": [
    "pd.options.display.max_colwidth = 200\n",
    "\n",
    "df_train.sample(20)"
   ]
  },
  {
   "cell_type": "markdown",
   "metadata": {},
   "source": [
    "### Creating binary classification dataset\n",
    "\n",
    "** As we see, each document is assigned one class or more. ** In this exercise I would like to implement a simple binary classification workflow, so I define 2 binary classes:\n",
    "* **Positive / True** - Documents that belong to class **C14 - Cardiovascular Diseases**\n",
    "* **Negative / False** - Documents that do not belong to C14\n",
    "\n",
    "The following code converts that data to a binary classification dataset:\n"
   ]
  },
  {
   "cell_type": "code",
   "execution_count": 66,
   "metadata": {
    "collapsed": false
   },
   "outputs": [],
   "source": [
    "import re\n",
    "\n",
    "def ConvertCategoryColToBinVal(df, poscat):\n",
    "    df['CATEGORY'] = df['CATEGORY'].apply(lambda x: bool(re.search(poscat, x, re.IGNORECASE) and True))\n",
    "    \n",
    "ConvertCategoryColToBinVal(df_train, 'C14')\n",
    "\n",
    "ConvertCategoryColToBinVal(df_test, 'C14')"
   ]
  },
  {
   "cell_type": "markdown",
   "metadata": {},
   "source": [
    "Let's take another look at the data:"
   ]
  },
  {
   "cell_type": "code",
   "execution_count": 67,
   "metadata": {
    "collapsed": false
   },
   "outputs": [
    {
     "data": {
      "text/html": [
       "<div>\n",
       "<table border=\"1\" class=\"dataframe\">\n",
       "  <thead>\n",
       "    <tr style=\"text-align: right;\">\n",
       "      <th></th>\n",
       "      <th>DOCID</th>\n",
       "      <th>NOTE_TEXT</th>\n",
       "      <th>CATEGORY</th>\n",
       "    </tr>\n",
       "  </thead>\n",
       "  <tbody>\n",
       "    <tr>\n",
       "      <th>6060</th>\n",
       "      <td>0008845</td>\n",
       "      <td>Causes, diagnosis, and treatment of pharyngitis.\\n Pharyngitis is a common disease of the respiratory tract that can be caused by several different viruses and bacterial organisms.\\n Clinically sp...</td>\n",
       "      <td>False</td>\n",
       "    </tr>\n",
       "    <tr>\n",
       "      <th>978</th>\n",
       "      <td>0005872</td>\n",
       "      <td>Secondary correction of the unilateral cleft lip nose using a conchal composite graft.\\n The secondary deformity of the unilateral cleft lip nose has many components.\\n One is the dorsal dislocati...</td>\n",
       "      <td>False</td>\n",
       "    </tr>\n",
       "    <tr>\n",
       "      <th>3655</th>\n",
       "      <td>0003185</td>\n",
       "      <td>Ability of anti-HIV agents to inhibit HIV replication in monocyte/macrophages or U937 monocytoid cells under conditions of enhancement by GM-CSF or anti-HIV antibody.\\n Monocyte/macrophages (M/M) ...</td>\n",
       "      <td>False</td>\n",
       "    </tr>\n",
       "    <tr>\n",
       "      <th>4045</th>\n",
       "      <td>0002256</td>\n",
       "      <td>Alcohol and trauma. An endemic syndrome.\\n Injuries are a pervasive and costly problem, and alcohol use appears to be an important risk factor for injury.\\n We examined the blood alcohol levels an...</td>\n",
       "      <td>False</td>\n",
       "    </tr>\n",
       "    <tr>\n",
       "      <th>2447</th>\n",
       "      <td>0006180</td>\n",
       "      <td>Dose-dependent reduction of myocardial infarct size with the perfluorochemical Fluosol-DA.\\n The perfluorochemical Fluosol-DA has been shown to reduce infarct size.\\n However, the dose-response re...</td>\n",
       "      <td>True</td>\n",
       "    </tr>\n",
       "    <tr>\n",
       "      <th>3284</th>\n",
       "      <td>0004261</td>\n",
       "      <td>Clinical review 16: Parathyroid hormone-related proteins: coming of age in the 1990s.\\n The last 3 yr have yielded a fertile harvest of new information on the HHM clinical syndrome and on the nove...</td>\n",
       "      <td>False</td>\n",
       "    </tr>\n",
       "    <tr>\n",
       "      <th>4031</th>\n",
       "      <td>0000997</td>\n",
       "      <td>Treatment of phenobarbital poisoning with multiple dose activated charcoal in an infant.\\n A 28-day-old infant developed lethargy, hypotonia, and hypothermia following a phenobarbital overdose sec...</td>\n",
       "      <td>False</td>\n",
       "    </tr>\n",
       "    <tr>\n",
       "      <th>5510</th>\n",
       "      <td>0006332</td>\n",
       "      <td>Clinicopathologic features and long-term results of alpha-fetoprotein-producing gastric cancer.\\n During a 10-yr-period, 24 cases of alpha-fetoprotein-producing gastric cancer were experienced in ...</td>\n",
       "      <td>False</td>\n",
       "    </tr>\n",
       "    <tr>\n",
       "      <th>1653</th>\n",
       "      <td>0002449</td>\n",
       "      <td>Geriatric pharmacokinetics and the kidney.\\n The general population is aging and, as a result, drugs are increasingly prescribed for a variety of medical conditions in a group of patients with mul...</td>\n",
       "      <td>False</td>\n",
       "    </tr>\n",
       "    <tr>\n",
       "      <th>4737</th>\n",
       "      <td>0002332</td>\n",
       "      <td>Changes in circulating norepinephrine with hemofiltration in advanced congestive heart failure.\\n In congestive heart failure (CHF), hemofiltration is associated with an obvious decrease in circul...</td>\n",
       "      <td>True</td>\n",
       "    </tr>\n",
       "    <tr>\n",
       "      <th>5448</th>\n",
       "      <td>0006046</td>\n",
       "      <td>Focal nodular hyperplasia of the liver.\\n Twenty-four patients underwent biopsy or resection of the liver for focal nodular hyperplasia (FNH) at Memorial Sloan-Kettering Cancer Center from 1978 to...</td>\n",
       "      <td>False</td>\n",
       "    </tr>\n",
       "    <tr>\n",
       "      <th>4405</th>\n",
       "      <td>0009743</td>\n",
       "      <td>Subtle injuries of the Lisfranc joint.\\n In fifteen patients, a subtle injury of the Lisfranc joint (tarsometatarsal articulation) was found.\\n The lesion was defined as a diastasis of two to five...</td>\n",
       "      <td>False</td>\n",
       "    </tr>\n",
       "    <tr>\n",
       "      <th>490</th>\n",
       "      <td>0007578</td>\n",
       "      <td>Immunocytochemical profile of benign and carcinomatous effusions. A practical approach to difficult diagnosis.\\n One of the great challenges in the cytodiagnosis of effusions is the distinction be...</td>\n",
       "      <td>False</td>\n",
       "    </tr>\n",
       "    <tr>\n",
       "      <th>121</th>\n",
       "      <td>0004622</td>\n",
       "      <td>Measles incidence, vaccine efficacy, and mortality in two urban African areas with high vaccination coverage.\\n Measles incidence, vaccine efficacy, and mortality were examined prospectively in tw...</td>\n",
       "      <td>False</td>\n",
       "    </tr>\n",
       "    <tr>\n",
       "      <th>5399</th>\n",
       "      <td>0005694</td>\n",
       "      <td>Abdominal trauma in pregnancy. When is fetal monitoring necessary? \\n The type and duration of observation and monitoring of mother and fetus after abdominal trauma are dependent on gestational ag...</td>\n",
       "      <td>False</td>\n",
       "    </tr>\n",
       "    <tr>\n",
       "      <th>2139</th>\n",
       "      <td>0002320</td>\n",
       "      <td>Transient left ventricular filling abnormalities (diastolic stunning) after acute myocardial infarction.\\n A variety of experimental studies suggest that diastolic left ventricular (LV) function c...</td>\n",
       "      <td>True</td>\n",
       "    </tr>\n",
       "    <tr>\n",
       "      <th>5899</th>\n",
       "      <td>0008051</td>\n",
       "      <td>Stress adaptation and low-frequency impedance of rat lungs.\\n At transpulmonary pressures (Ptp) of 7-12 cmH2O, pressure-volume hysteresis of isolated cat lungs has been found to be 20-50% larger t...</td>\n",
       "      <td>False</td>\n",
       "    </tr>\n",
       "    <tr>\n",
       "      <th>4989</th>\n",
       "      <td>0003536</td>\n",
       "      <td>Perioperative arrhythmias after Fontan repair.\\n Arrhythmias are well-recognized sequelae of the Fontan repair.\\n A prospective analysis of perioperative arrhythmias after Fontan repair was perfor...</td>\n",
       "      <td>False</td>\n",
       "    </tr>\n",
       "    <tr>\n",
       "      <th>4396</th>\n",
       "      <td>0009331</td>\n",
       "      <td>Motor unit numbers and contractile properties after spinal cord injury.\\n The number of motor units in the thenar muscle group was estimated in 11 patients with cervical spinal cord injuries.\\n Th...</td>\n",
       "      <td>False</td>\n",
       "    </tr>\n",
       "    <tr>\n",
       "      <th>2280</th>\n",
       "      <td>0003481</td>\n",
       "      <td>Nonuniform regional deformation of the pericardium during the cardiac cycle in dogs.\\n We hypothesized that local contact forces between the pericardium and the heart cause regional variation in p...</td>\n",
       "      <td>True</td>\n",
       "    </tr>\n",
       "  </tbody>\n",
       "</table>\n",
       "</div>"
      ],
      "text/plain": [
       "        DOCID                                                                                                                                                                                                NOTE_TEXT CATEGORY\n",
       "6060  0008845  Causes, diagnosis, and treatment of pharyngitis.\\n Pharyngitis is a common disease of the respiratory tract that can be caused by several different viruses and bacterial organisms.\\n Clinically sp...    False\n",
       "978   0005872  Secondary correction of the unilateral cleft lip nose using a conchal composite graft.\\n The secondary deformity of the unilateral cleft lip nose has many components.\\n One is the dorsal dislocati...    False\n",
       "3655  0003185  Ability of anti-HIV agents to inhibit HIV replication in monocyte/macrophages or U937 monocytoid cells under conditions of enhancement by GM-CSF or anti-HIV antibody.\\n Monocyte/macrophages (M/M) ...    False\n",
       "4045  0002256  Alcohol and trauma. An endemic syndrome.\\n Injuries are a pervasive and costly problem, and alcohol use appears to be an important risk factor for injury.\\n We examined the blood alcohol levels an...    False\n",
       "2447  0006180  Dose-dependent reduction of myocardial infarct size with the perfluorochemical Fluosol-DA.\\n The perfluorochemical Fluosol-DA has been shown to reduce infarct size.\\n However, the dose-response re...     True\n",
       "3284  0004261  Clinical review 16: Parathyroid hormone-related proteins: coming of age in the 1990s.\\n The last 3 yr have yielded a fertile harvest of new information on the HHM clinical syndrome and on the nove...    False\n",
       "4031  0000997  Treatment of phenobarbital poisoning with multiple dose activated charcoal in an infant.\\n A 28-day-old infant developed lethargy, hypotonia, and hypothermia following a phenobarbital overdose sec...    False\n",
       "5510  0006332  Clinicopathologic features and long-term results of alpha-fetoprotein-producing gastric cancer.\\n During a 10-yr-period, 24 cases of alpha-fetoprotein-producing gastric cancer were experienced in ...    False\n",
       "1653  0002449  Geriatric pharmacokinetics and the kidney.\\n The general population is aging and, as a result, drugs are increasingly prescribed for a variety of medical conditions in a group of patients with mul...    False\n",
       "4737  0002332  Changes in circulating norepinephrine with hemofiltration in advanced congestive heart failure.\\n In congestive heart failure (CHF), hemofiltration is associated with an obvious decrease in circul...     True\n",
       "5448  0006046  Focal nodular hyperplasia of the liver.\\n Twenty-four patients underwent biopsy or resection of the liver for focal nodular hyperplasia (FNH) at Memorial Sloan-Kettering Cancer Center from 1978 to...    False\n",
       "4405  0009743  Subtle injuries of the Lisfranc joint.\\n In fifteen patients, a subtle injury of the Lisfranc joint (tarsometatarsal articulation) was found.\\n The lesion was defined as a diastasis of two to five...    False\n",
       "490   0007578  Immunocytochemical profile of benign and carcinomatous effusions. A practical approach to difficult diagnosis.\\n One of the great challenges in the cytodiagnosis of effusions is the distinction be...    False\n",
       "121   0004622  Measles incidence, vaccine efficacy, and mortality in two urban African areas with high vaccination coverage.\\n Measles incidence, vaccine efficacy, and mortality were examined prospectively in tw...    False\n",
       "5399  0005694  Abdominal trauma in pregnancy. When is fetal monitoring necessary? \\n The type and duration of observation and monitoring of mother and fetus after abdominal trauma are dependent on gestational ag...    False\n",
       "2139  0002320  Transient left ventricular filling abnormalities (diastolic stunning) after acute myocardial infarction.\\n A variety of experimental studies suggest that diastolic left ventricular (LV) function c...     True\n",
       "5899  0008051  Stress adaptation and low-frequency impedance of rat lungs.\\n At transpulmonary pressures (Ptp) of 7-12 cmH2O, pressure-volume hysteresis of isolated cat lungs has been found to be 20-50% larger t...    False\n",
       "4989  0003536  Perioperative arrhythmias after Fontan repair.\\n Arrhythmias are well-recognized sequelae of the Fontan repair.\\n A prospective analysis of perioperative arrhythmias after Fontan repair was perfor...    False\n",
       "4396  0009331  Motor unit numbers and contractile properties after spinal cord injury.\\n The number of motor units in the thenar muscle group was estimated in 11 patients with cervical spinal cord injuries.\\n Th...    False\n",
       "2280  0003481  Nonuniform regional deformation of the pericardium during the cardiac cycle in dogs.\\n We hypothesized that local contact forces between the pericardium and the heart cause regional variation in p...     True"
      ]
     },
     "execution_count": 67,
     "metadata": {},
     "output_type": "execute_result"
    }
   ],
   "source": [
    "df_train.sample(20)"
   ]
  },
  {
   "cell_type": "markdown",
   "metadata": {},
   "source": [
    "### How many records do we have in the test / train datasets ?"
   ]
  },
  {
   "cell_type": "code",
   "execution_count": 72,
   "metadata": {
    "collapsed": false
   },
   "outputs": [
    {
     "name": "stdout",
     "output_type": "stream",
     "text": [
      "Training data has:  6286  documents\n",
      "Test data has:  7643  documents\n"
     ]
    }
   ],
   "source": [
    "\n",
    "print 'Training data has: ', len(df_train.index), ' documents'\n",
    "\n",
    "print 'Test data has: ', len(df_test.index), ' documents'"
   ]
  },
  {
   "cell_type": "markdown",
   "metadata": {},
   "source": [
    "### Data distribution"
   ]
  },
  {
   "cell_type": "code",
   "execution_count": 73,
   "metadata": {
    "collapsed": false
   },
   "outputs": [
    {
     "data": {
      "image/png": "[encoded data removed]",
      "text/plain": [
       "<matplotlib.figure.Figure at 0x24a3b550>"
      ]
     },
     "metadata": {},
     "output_type": "display_data"
    }
   ],
   "source": [
    "plt.axis('equal')\n",
    "plt.pie(\n",
    "    df_train.CATEGORY.value_counts().tolist(), \n",
    "    labels=['False', 'True'], \n",
    "    autopct='%1.1f%%', \n",
    "    colors=(\"#E13F29\", \"#D69A80\"));"
   ]
  },
  {
   "cell_type": "markdown",
   "metadata": {},
   "source": [
    "**The accuracy of a dumb classifier that classifies all the documents as False is >80%**"
   ]
  },
  {
   "cell_type": "markdown",
   "metadata": {},
   "source": [
    "# Baseline classifier"
   ]
  },
  {
   "cell_type": "markdown",
   "metadata": {},
   "source": [
    "## We define a trivial baseline classifier that simply look for the string 'Cardio' in the text"
   ]
  },
  {
   "cell_type": "code",
   "execution_count": 79,
   "metadata": {
    "collapsed": false
   },
   "outputs": [],
   "source": [
    "import re\n",
    "\n",
    "def baseline_cpr_classifier(txt):\n",
    "    if re.search('Cardio', txt, re.IGNORECASE):\n",
    "        return True\n",
    "    else:\n",
    "        return False\n"
   ]
  },
  {
   "cell_type": "markdown",
   "metadata": {},
   "source": [
    "## Testing our baseline classifier"
   ]
  },
  {
   "cell_type": "code",
   "execution_count": 90,
   "metadata": {
    "collapsed": true
   },
   "outputs": [],
   "source": [
    "Ytrue = df_test.CATEGORY.tolist()\n",
    "\n",
    "Ypred = []\n",
    "\n",
    "for index, row in df_test.iterrows():\n",
    "    Ypred.append(baseline_cpr_classifier(row['NOTE_TEXT']))\n",
    "    "
   ]
  },
  {
   "cell_type": "markdown",
   "metadata": {},
   "source": [
    "### Comparing actual values to the predictions of the baseline classifier"
   ]
  },
  {
   "cell_type": "code",
   "execution_count": 91,
   "metadata": {
    "collapsed": false
   },
   "outputs": [
    {
     "data": {
      "text/html": [
       "<div>\n",
       "<table border=\"1\" class=\"dataframe\">\n",
       "  <thead>\n",
       "    <tr style=\"text-align: right;\">\n",
       "      <th></th>\n",
       "      <th>Actual</th>\n",
       "      <th>Predicted</th>\n",
       "    </tr>\n",
       "  </thead>\n",
       "  <tbody>\n",
       "    <tr>\n",
       "      <th>1598</th>\n",
       "      <td>False</td>\n",
       "      <td>False</td>\n",
       "    </tr>\n",
       "    <tr>\n",
       "      <th>6700</th>\n",
       "      <td>True</td>\n",
       "      <td>True</td>\n",
       "    </tr>\n",
       "    <tr>\n",
       "      <th>7296</th>\n",
       "      <td>False</td>\n",
       "      <td>False</td>\n",
       "    </tr>\n",
       "    <tr>\n",
       "      <th>4630</th>\n",
       "      <td>False</td>\n",
       "      <td>False</td>\n",
       "    </tr>\n",
       "    <tr>\n",
       "      <th>626</th>\n",
       "      <td>False</td>\n",
       "      <td>False</td>\n",
       "    </tr>\n",
       "    <tr>\n",
       "      <th>6721</th>\n",
       "      <td>False</td>\n",
       "      <td>False</td>\n",
       "    </tr>\n",
       "    <tr>\n",
       "      <th>366</th>\n",
       "      <td>False</td>\n",
       "      <td>False</td>\n",
       "    </tr>\n",
       "    <tr>\n",
       "      <th>870</th>\n",
       "      <td>False</td>\n",
       "      <td>False</td>\n",
       "    </tr>\n",
       "    <tr>\n",
       "      <th>2489</th>\n",
       "      <td>False</td>\n",
       "      <td>False</td>\n",
       "    </tr>\n",
       "    <tr>\n",
       "      <th>3567</th>\n",
       "      <td>False</td>\n",
       "      <td>False</td>\n",
       "    </tr>\n",
       "    <tr>\n",
       "      <th>3058</th>\n",
       "      <td>True</td>\n",
       "      <td>False</td>\n",
       "    </tr>\n",
       "    <tr>\n",
       "      <th>3725</th>\n",
       "      <td>False</td>\n",
       "      <td>False</td>\n",
       "    </tr>\n",
       "    <tr>\n",
       "      <th>7455</th>\n",
       "      <td>True</td>\n",
       "      <td>True</td>\n",
       "    </tr>\n",
       "    <tr>\n",
       "      <th>7082</th>\n",
       "      <td>False</td>\n",
       "      <td>False</td>\n",
       "    </tr>\n",
       "    <tr>\n",
       "      <th>6063</th>\n",
       "      <td>False</td>\n",
       "      <td>False</td>\n",
       "    </tr>\n",
       "    <tr>\n",
       "      <th>7470</th>\n",
       "      <td>False</td>\n",
       "      <td>False</td>\n",
       "    </tr>\n",
       "    <tr>\n",
       "      <th>4234</th>\n",
       "      <td>False</td>\n",
       "      <td>False</td>\n",
       "    </tr>\n",
       "    <tr>\n",
       "      <th>346</th>\n",
       "      <td>False</td>\n",
       "      <td>False</td>\n",
       "    </tr>\n",
       "    <tr>\n",
       "      <th>4351</th>\n",
       "      <td>False</td>\n",
       "      <td>False</td>\n",
       "    </tr>\n",
       "    <tr>\n",
       "      <th>3262</th>\n",
       "      <td>True</td>\n",
       "      <td>False</td>\n",
       "    </tr>\n",
       "  </tbody>\n",
       "</table>\n",
       "</div>"
      ],
      "text/plain": [
       "     Actual Predicted\n",
       "1598  False     False\n",
       "6700   True      True\n",
       "7296  False     False\n",
       "4630  False     False\n",
       "626   False     False\n",
       "6721  False     False\n",
       "366   False     False\n",
       "870   False     False\n",
       "2489  False     False\n",
       "3567  False     False\n",
       "3058   True     False\n",
       "3725  False     False\n",
       "7455   True      True\n",
       "7082  False     False\n",
       "6063  False     False\n",
       "7470  False     False\n",
       "4234  False     False\n",
       "346   False     False\n",
       "4351  False     False\n",
       "3262   True     False"
      ]
     },
     "execution_count": 91,
     "metadata": {},
     "output_type": "execute_result"
    }
   ],
   "source": [
    "dictY = {'Actual' : Ytrue, 'Predicted': Ypred}\n",
    "\n",
    "dfY = pd.DataFrame.from_dict(dictY)\n",
    "\n",
    "dfY.sample(20)"
   ]
  },
  {
   "cell_type": "markdown",
   "metadata": {},
   "source": [
    "## Assessing Classifier Performance\n",
    "\n",
    "### Confusion matrix and derivative estimators"
   ]
  },
  {
   "cell_type": "code",
   "execution_count": 92,
   "metadata": {
    "collapsed": false
   },
   "outputs": [
    {
     "data": {
      "text/html": [
       "<table border=\"1\" cellpadding=\"3\" cellspacing=\"0\"  style=\"border:1px solid black;border-collapse:collapse;\"><tr><td  style=\"background-color:White;border-left: 1px solid transparent;border-top: 1px solid transparent;\"><b></b></td><td  style=\"background-color:LightGray;\"><b>Predicted&nbsp0</b></td><td  style=\"background-color:LightGray;\"><b>Predicted&nbsp1</b></td></tr><tr><td  style=\"background-color:LightGray;\"><b>Actual&nbsp0</b></td><td  style=\"background-color:Ivory;\">True&nbspNegative</td><td  style=\"background-color:Ivory;\">False&nbspPositive</td></tr><tr><td  style=\"background-color:LightGray;\"><b>Actual&nbsp1</b></td><td  style=\"background-color:AliceBlue;\">False&nbspNegative</td><td  style=\"background-color:AliceBlue;\">True&nbspPositive</td></tr></table>"
      ],
      "text/plain": [
       "<ipy_table.IpyTable at 0x24c8d9e8>"
      ]
     },
     "execution_count": 92,
     "metadata": {},
     "output_type": "execute_result"
    }
   ],
   "source": [
    "\n",
    "from ipy_table import *\n",
    "\n",
    "confusion_matrix_binary = [\n",
    "    ['', 'Predicted 0', 'Predicted 1'],\n",
    "    ['Actual 0', 'True Negative', 'False Positive'],\n",
    "    ['Actual 1', 'False Negative', 'True Positive']\n",
    "]\n",
    "\n",
    "make_table(confusion_matrix_binary)\n",
    "apply_theme('basic_both')"
   ]
  },
  {
   "cell_type": "markdown",
   "metadata": {},
   "source": [
    "#### Sensitivity (Recall) or true positive rate (TPR)  $=\\frac{TP}{TP+FN}$\n",
    "\n",
    "#### Specificity (SPC) or true negative rate  $=\\frac{TN}{TN+FP}$\n",
    "\n",
    "#### Precision or positive predictive value (PPV)  $=\\frac{TP}{TP+FP}$"
   ]
  },
  {
   "cell_type": "markdown",
   "metadata": {},
   "source": [
    "### Confusion matrix and derivatives of the baseline classifier"
   ]
  },
  {
   "cell_type": "code",
   "execution_count": 93,
   "metadata": {
    "collapsed": false
   },
   "outputs": [
    {
     "name": "stdout",
     "output_type": "stream",
     "text": [
      "[[6226  116]\n",
      " [ 922  379]]\n",
      "6342\n"
     ]
    }
   ],
   "source": [
    "from sklearn.metrics import confusion_matrix\n",
    "\n",
    "conf_mat = confusion_matrix(Ytrue, Ypred)\n",
    "\n",
    "print conf_mat\n",
    "\n",
    "print sum(conf_mat[0])\n"
   ]
  },
  {
   "cell_type": "markdown",
   "metadata": {},
   "source": [
    "Some code to prettify the printout of the confusion matrix in the notebook:"
   ]
  },
  {
   "cell_type": "code",
   "execution_count": 87,
   "metadata": {
    "collapsed": true
   },
   "outputs": [],
   "source": [
    "def render_confusion_matrix(ytrue, ypred):\n",
    "    return pd.crosstab(pd.Series(ytrue), pd.Series(ypred), rownames=['Actual'], colnames=['Predicted'], margins=True)"
   ]
  },
  {
   "cell_type": "code",
   "execution_count": 88,
   "metadata": {
    "collapsed": false
   },
   "outputs": [
    {
     "data": {
      "text/html": [
       "<div>\n",
       "<table border=\"1\" class=\"dataframe\">\n",
       "  <thead>\n",
       "    <tr style=\"text-align: right;\">\n",
       "      <th>Predicted</th>\n",
       "      <th>False</th>\n",
       "      <th>True</th>\n",
       "      <th>All</th>\n",
       "    </tr>\n",
       "    <tr>\n",
       "      <th>Actual</th>\n",
       "      <th></th>\n",
       "      <th></th>\n",
       "      <th></th>\n",
       "    </tr>\n",
       "  </thead>\n",
       "  <tbody>\n",
       "    <tr>\n",
       "      <th>False</th>\n",
       "      <td>6226</td>\n",
       "      <td>116</td>\n",
       "      <td>6342</td>\n",
       "    </tr>\n",
       "    <tr>\n",
       "      <th>True</th>\n",
       "      <td>922</td>\n",
       "      <td>379</td>\n",
       "      <td>1301</td>\n",
       "    </tr>\n",
       "    <tr>\n",
       "      <th>All</th>\n",
       "      <td>7148</td>\n",
       "      <td>495</td>\n",
       "      <td>7643</td>\n",
       "    </tr>\n",
       "  </tbody>\n",
       "</table>\n",
       "</div>"
      ],
      "text/plain": [
       "Predicted  False  True   All\n",
       "Actual                      \n",
       "False       6226   116  6342\n",
       "True         922   379  1301\n",
       "All         7148   495  7643"
      ]
     },
     "execution_count": 88,
     "metadata": {},
     "output_type": "execute_result"
    }
   ],
   "source": [
    "render_confusion_matrix(Ytrue, Ypred)"
   ]
  },
  {
   "cell_type": "code",
   "execution_count": 89,
   "metadata": {
    "collapsed": false,
    "scrolled": true
   },
   "outputs": [
    {
     "name": "stdout",
     "output_type": "stream",
     "text": [
      "\n",
      "Accuracy:  0.864189454403\n",
      "\n",
      "             precision    recall  f1-score   support\n",
      "\n",
      "      False       0.87      0.98      0.92      6342\n",
      "       True       0.77      0.29      0.42      1301\n",
      "\n",
      "avg / total       0.85      0.86      0.84      7643\n",
      "\n"
     ]
    }
   ],
   "source": [
    "from sklearn.metrics import classification_report, accuracy_score\n",
    "\n",
    "print\n",
    "print 'Accuracy: ', accuracy_score(Ytrue, Ypred)\n",
    "print\n",
    "print classification_report(Ytrue, Ypred)"
   ]
  },
  {
   "cell_type": "markdown",
   "metadata": {},
   "source": [
    "**Even though the accuracy is OK, the recall is misearable. Let's build a real classifier**"
   ]
  },
  {
   "cell_type": "markdown",
   "metadata": {
    "collapsed": true
   },
   "source": [
    "#Building a ML classifier"
   ]
  },
  {
   "cell_type": "markdown",
   "metadata": {},
   "source": [
    "## Vectorizing textual data using Bag-of-Words (or Bag-of-Ngrams)"
   ]
  },
  {
   "cell_type": "markdown",
   "metadata": {},
   "source": [
    "Our vector space is a dictionary of all the N-grams in our set of documents."
   ]
  },
  {
   "cell_type": "markdown",
   "metadata": {},
   "source": [
    "### Defining tokenizer to extract better features from the text"
   ]
  },
  {
   "cell_type": "code",
   "execution_count": 99,
   "metadata": {
    "collapsed": true
   },
   "outputs": [],
   "source": [
    "from nltk.stem.porter import *\n",
    "from nltk.tokenize import word_tokenize\n",
    "import string\n",
    "\n",
    "stemmer = PorterStemmer()\n",
    "def stem_tokens(tokens, stemmer):\n",
    "    stemmed = []\n",
    "    for item in tokens:\n",
    "        stemmed.append(stemmer.stem(item))\n",
    "    return stemmed\n",
    "\n",
    "def tokenize(text):\n",
    "    text = \"\".join([ch for ch in text if ch not in string.punctuation])\n",
    "    tokens = word_tokenize(text)\n",
    "    tokens = [item for item in tokens if item.isalpha()]\n",
    "    stems = stem_tokens(tokens, stemmer)\n",
    "    return stems"
   ]
  },
  {
   "cell_type": "markdown",
   "metadata": {},
   "source": [
    "## Vectorize the test data"
   ]
  },
  {
   "cell_type": "code",
   "execution_count": 100,
   "metadata": {
    "collapsed": false
   },
   "outputs": [],
   "source": [
    "X_train = df_train['NOTE_TEXT'].tolist()\n",
    "Y_train = df_train.CATEGORY.tolist()\n",
    "\n",
    "vectorizer = CountVectorizer(tokenizer=tokenize, ngram_range=(1,2))\n",
    "\n",
    "wcounts = vectorizer.fit_transform(X_train)\n"
   ]
  },
  {
   "cell_type": "markdown",
   "metadata": {},
   "source": [
    "### What is the dimentionality of our vector space?"
   ]
  },
  {
   "cell_type": "code",
   "execution_count": 102,
   "metadata": {
    "collapsed": false
   },
   "outputs": [
    {
     "data": {
      "text/plain": [
       "<6286x355860 sparse matrix of type '<type 'numpy.int64'>'\n",
       "\twith 1452481 stored elements in Compressed Sparse Row format>"
      ]
     },
     "execution_count": 102,
     "metadata": {},
     "output_type": "execute_result"
    }
   ],
   "source": [
    "wcounts"
   ]
  },
  {
   "cell_type": "markdown",
   "metadata": {},
   "source": [
    "** We have 6286 documents in our training set, each has 355860 features (the combination of all the uni/bi-grams)**"
   ]
  },
  {
   "cell_type": "markdown",
   "metadata": {},
   "source": [
    "### The first 200 features"
   ]
  },
  {
   "cell_type": "code",
   "execution_count": 103,
   "metadata": {
    "collapsed": false
   },
   "outputs": [
    {
     "data": {
      "text/plain": [
       "[u'a',\n",
       " u'a a',\n",
       " u'a absolut',\n",
       " u'a accuraci',\n",
       " u'a acid',\n",
       " u'a activ',\n",
       " u'a adrenalectomi',\n",
       " u'a after',\n",
       " u'a alon',\n",
       " u'a alpha',\n",
       " u'a alphasubunit',\n",
       " u'a amino',\n",
       " u'a an',\n",
       " u'a analog',\n",
       " u'a analysi',\n",
       " u'a and',\n",
       " u'a antibodi',\n",
       " u'a antigen',\n",
       " u'a antiifnalpha',\n",
       " u'a aortic',\n",
       " u'a apic',\n",
       " u'a aqueoussolubl',\n",
       " u'a are',\n",
       " u'a as',\n",
       " u'a assay',\n",
       " u'a assessmentreferr',\n",
       " u'a ata',\n",
       " u'a atmospher',\n",
       " u'a atrial',\n",
       " u'a attempt',\n",
       " u'a averag',\n",
       " u'a b',\n",
       " u'a babi',\n",
       " u'a baboon',\n",
       " u'a background',\n",
       " u'a backtoback',\n",
       " u'a bacteremia',\n",
       " u'a bacteri',\n",
       " u'a bacteriolog',\n",
       " u'a bad',\n",
       " u'a baffl',\n",
       " u'a bake',\n",
       " u'a balanc',\n",
       " u'a balloon',\n",
       " u'a ban',\n",
       " u'a band',\n",
       " u'a bandlik',\n",
       " u'a barbitur',\n",
       " u'a bard',\n",
       " u'a barium',\n",
       " u'a baromet',\n",
       " u'a baroreceptor',\n",
       " u'a barrier',\n",
       " u'a basal',\n",
       " u'a base',\n",
       " u'a baselin',\n",
       " u'a basi',\n",
       " u'a basic',\n",
       " u'a basketweav',\n",
       " u'a bath',\n",
       " u'a batteri',\n",
       " u'a bauermeist',\n",
       " u'a bcc',\n",
       " u'a bcell',\n",
       " u'a bcrabl',\n",
       " u'a bdvinfect',\n",
       " u'a bdvrelat',\n",
       " u'a bear',\n",
       " u'a beat',\n",
       " u'a becaus',\n",
       " u'a becker',\n",
       " u'a bed',\n",
       " u'a begin',\n",
       " u'a behavior',\n",
       " u'a behaviour',\n",
       " u'a below',\n",
       " u'a belowthekne',\n",
       " u'a bench',\n",
       " u'a benefici',\n",
       " u'a benefit',\n",
       " u'a benign',\n",
       " u'a bent',\n",
       " u'a benzodiazepin',\n",
       " u'a beta',\n",
       " u'a betaadrenerg',\n",
       " u'a betaadrenoceptor',\n",
       " u'a betaagonist',\n",
       " u'a betablock',\n",
       " u'a betachain',\n",
       " u'a betacl',\n",
       " u'a betahemolyt',\n",
       " u'a betasympathomimet',\n",
       " u'a better',\n",
       " u'a betweenheel',\n",
       " u'a bewild',\n",
       " u'a bfg',\n",
       " u'a bgl',\n",
       " u'a bia',\n",
       " u'a biatrial',\n",
       " u'a bicommissur',\n",
       " u'a bicornu',\n",
       " u'a bicycl',\n",
       " u'a bidimension',\n",
       " u'a bidirect',\n",
       " u'a biexponenti',\n",
       " u'a bifoil',\n",
       " u'a bilater',\n",
       " u'a bile',\n",
       " u'a biliari',\n",
       " u'a biliou',\n",
       " u'a billingham',\n",
       " u'a bimod',\n",
       " u'a bind',\n",
       " u'a bing',\n",
       " u'a bioartifici',\n",
       " u'a bioassay',\n",
       " u'a biograph',\n",
       " u'a biolog',\n",
       " u'a biomechan',\n",
       " u'a biomedicu',\n",
       " u'a bioprosthesi',\n",
       " u'a bioprosthet',\n",
       " u'a biopsi',\n",
       " u'a biotinyl',\n",
       " u'a bipariet',\n",
       " u'a bipedicl',\n",
       " u'a biphas',\n",
       " u'a biplan',\n",
       " u'a bipolar',\n",
       " u'a bipotenti',\n",
       " u'a biraci',\n",
       " u'a birth',\n",
       " u'a bisexu',\n",
       " u'a bisinu',\n",
       " u'a bite',\n",
       " u'a biventricular',\n",
       " u'a black',\n",
       " u'a blackout',\n",
       " u'a blackpowd',\n",
       " u'a blackpowderrifl',\n",
       " u'a bladder',\n",
       " u'a blade',\n",
       " u'a blalocktaussig',\n",
       " u'a blank',\n",
       " u'a bleed',\n",
       " u'a blind',\n",
       " u'a block',\n",
       " u'a blocker',\n",
       " u'a blogt',\n",
       " u'a blood',\n",
       " u'a bloodbrain',\n",
       " u'a bloodcontamin',\n",
       " u'a bloodi',\n",
       " u'a bloodless',\n",
       " u'a bloodliquid',\n",
       " u'a blunt',\n",
       " u'a boari',\n",
       " u'a bodi',\n",
       " u'a bohr',\n",
       " u'a bold',\n",
       " u'a bolu',\n",
       " u'a bone',\n",
       " u'a boni',\n",
       " u'a booster',\n",
       " u'a borg',\n",
       " u'a borna',\n",
       " u'a bottom',\n",
       " u'a bout',\n",
       " u'a bovin',\n",
       " u'a bowel',\n",
       " u'a boy',\n",
       " u'a boyfriendlov',\n",
       " u'a bp',\n",
       " u'a brachialjugular',\n",
       " u'a bradycardia',\n",
       " u'a brain',\n",
       " u'a brainstem',\n",
       " u'a branch',\n",
       " u'a brdurd',\n",
       " u'a breast',\n",
       " u'a breastpreserv',\n",
       " u'a breathhold',\n",
       " u'a bridg',\n",
       " u'a brief',\n",
       " u'a broad',\n",
       " u'a broaden',\n",
       " u'a broader',\n",
       " u'a broadli',\n",
       " u'a broadspectrum',\n",
       " u'a broken',\n",
       " u'a bromin',\n",
       " u'a bromodeoxyuridin',\n",
       " u'a bronchial',\n",
       " u'a bronchodil',\n",
       " u'a bronchoplast',\n",
       " u'a bronchu',\n",
       " u'a brother',\n",
       " u'a brown',\n",
       " u'a brunetti',\n",
       " u'a buccolingu']"
      ]
     },
     "execution_count": 103,
     "metadata": {},
     "output_type": "execute_result"
    }
   ],
   "source": [
    "feats = vectorizer.get_feature_names()\n",
    "\n",
    "feats[:200]"
   ]
  },
  {
   "cell_type": "markdown",
   "metadata": {},
   "source": [
    "** At this point of the workflow, there are many feature selection and engineering techniques we could apply. Some generic, some based on natural language processing and some unique to the medical domain. However, to keep it simple for now, let's move on to the classifier:**"
   ]
  },
  {
   "cell_type": "markdown",
   "metadata": {},
   "source": [
    "# Naive Bayes classifier\n",
    "\n",
    "* **Naive** conditional independence assumption: The counts of individual features (or n-grams) are independent\n",
    "* **Bayes' rule** is used to calculate the conditional probabilities for each class/feature pair: \n",
    "    $P(Y|W)=\\frac{P(W|Y) \\cdot P(Y)}{P(W)}$"
   ]
  },
  {
   "cell_type": "markdown",
   "metadata": {},
   "source": [
    "$\\implies P(Y|w_{1}, w_{2}, ..., w_{N})=\\frac{1}{P(W)} \\cdot P(Y) \\cdot \\prod_{k=1}^{N}  P(w_{k}|Y)$\n",
    "\n",
    "Since the probability of all the features is not dependent on the probability of Y and all we care about is finding the Y that is most likely, we can drop $\\frac{1}{P(W)}$ and stay with:\n",
    "\n",
    "$P(Y|w_{1}, w_{2}, ..., w_{N})=P(Y) \\cdot \\prod_{k=1}^{N}  P(w_{k}|Y)$"
   ]
  },
  {
   "cell_type": "markdown",
   "metadata": {},
   "source": [
    "We estimate the probabilities from the training set using multinomial distribution with a smoothing factor alpha:\n",
    "\n",
    "$P(w_{i}) = \\frac{count_{i}+alpha}{overallcount_{i}+alpha \\cdot N}$\n",
    "\n",
    "<img  width=\"575\" src=\"words_proba.png\"/>"
   ]
  },
  {
   "cell_type": "markdown",
   "metadata": {},
   "source": [
    "### Fit (aka train) a classifier with some ad-hoc parameters on the test data"
   ]
  },
  {
   "cell_type": "code",
   "execution_count": 111,
   "metadata": {
    "collapsed": false
   },
   "outputs": [
    {
     "data": {
      "text/plain": [
       "MultinomialNB(alpha=0.1, class_prior=None, fit_prior=True)"
      ]
     },
     "execution_count": 111,
     "metadata": {},
     "output_type": "execute_result"
    }
   ],
   "source": [
    "from sklearn.naive_bayes import MultinomialNB\n",
    "\n",
    "clf_nb = MultinomialNB(alpha=0.1)\n",
    "\n",
    "clf_nb.fit(wcounts, Y_train)"
   ]
  },
  {
   "cell_type": "markdown",
   "metadata": {},
   "source": [
    "### Most Predictive Features\n",
    "\n",
    "A cool feature of the Naive Bayes classifier is that it can list for us most relevant features for each class. These are the features that are most relevant to the positive documents. Some of them are trivial English words, that will also appear in the list of features relevant to the Negative documents. However - we also see some domain specific features, such as **arteri** and ** coronari** :"
   ]
  },
  {
   "cell_type": "code",
   "execution_count": 112,
   "metadata": {
    "collapsed": false
   },
   "outputs": [
    {
     "name": "stdout",
     "output_type": "stream",
     "text": [
      "Positive word -3.82: the\n",
      "Positive word -3.84: of\n",
      "Positive word -4.15: in\n",
      "Positive word -4.18: and\n",
      "Positive word -4.77: to\n",
      "Positive word -4.81: with\n",
      "Positive word -4.86: patient\n",
      "Positive word -4.89: a\n",
      "Positive word -5.14: wa\n",
      "Positive word -5.41: were\n",
      "Positive word -5.57: of the\n",
      "Positive word -5.58: for\n",
      "Positive word -5.71: than\n",
      "Positive word -5.73: in the\n",
      "Positive word -5.85: by\n",
      "Positive word -5.87: or\n",
      "Positive word -5.96: arteri\n",
      "Positive word -6.00: patient with\n",
      "Positive word -6.01: that\n",
      "Positive word -6.04: is\n",
      "Positive word -6.09: after\n",
      "Positive word -6.11: group\n",
      "Positive word -6.15: coronari\n",
      "Positive word -6.16: less\n",
      "Positive word -6.19: from\n"
     ]
    }
   ],
   "source": [
    "pf = [(clf_nb.feature_log_prob_[1, i], feats[i]) for i in range(len(feats))]\n",
    "pf.sort(reverse=True)\n",
    "for p in pf[:25]:\n",
    "    print 'Positive word %.2f: %s' % (p[0], p[1])"
   ]
  },
  {
   "cell_type": "markdown",
   "metadata": {},
   "source": [
    "## Test the classifier with the test data\n"
   ]
  },
  {
   "cell_type": "code",
   "execution_count": 117,
   "metadata": {
    "collapsed": false
   },
   "outputs": [],
   "source": [
    "# Read the data from pandas dataframe to an array\n",
    "X_test = df_test['NOTE_TEXT'].tolist()\n",
    "Y_test = df_test.CATEGORY.tolist()\n",
    "\n",
    "# Convert the text to arrays of numbers\n",
    "counts_test = vectorizer.transform(X_test)"
   ]
  },
  {
   "cell_type": "code",
   "execution_count": 118,
   "metadata": {
    "collapsed": false
   },
   "outputs": [
    {
     "data": {
      "text/plain": [
       "<7643x355860 sparse matrix of type '<type 'numpy.int64'>'\n",
       "\twith 1468293 stored elements in Compressed Sparse Row format>"
      ]
     },
     "execution_count": 118,
     "metadata": {},
     "output_type": "execute_result"
    }
   ],
   "source": [
    "counts_test"
   ]
  },
  {
   "cell_type": "markdown",
   "metadata": {},
   "source": [
    "**We have 7643 documents in our test set, each has 355860 features - exactly the same features we set while processing the training set of course.**"
   ]
  },
  {
   "cell_type": "code",
   "execution_count": 119,
   "metadata": {
    "collapsed": false
   },
   "outputs": [],
   "source": [
    "# Predict the values of the test set\n",
    "predictions = clf_nb.predict(counts_test)"
   ]
  },
  {
   "cell_type": "code",
   "execution_count": 120,
   "metadata": {
    "collapsed": false
   },
   "outputs": [
    {
     "data": {
      "text/plain": [
       "array([False, False, False, False, False, False, False, False, False,\n",
       "       False, False, False, False,  True, False, False, False, False,\n",
       "       False, False], dtype=bool)"
      ]
     },
     "execution_count": 120,
     "metadata": {},
     "output_type": "execute_result"
    }
   ],
   "source": [
    "# Look at the first 20 predictions\n",
    "predictions[:20]"
   ]
  },
  {
   "cell_type": "markdown",
   "metadata": {},
   "source": [
    "### Confusion matrix and derivatives of the classifier"
   ]
  },
  {
   "cell_type": "code",
   "execution_count": 122,
   "metadata": {
    "collapsed": false
   },
   "outputs": [
    {
     "data": {
      "text/html": [
       "<div>\n",
       "<table border=\"1\" class=\"dataframe\">\n",
       "  <thead>\n",
       "    <tr style=\"text-align: right;\">\n",
       "      <th>Predicted</th>\n",
       "      <th>False</th>\n",
       "      <th>True</th>\n",
       "      <th>All</th>\n",
       "    </tr>\n",
       "    <tr>\n",
       "      <th>Actual</th>\n",
       "      <th></th>\n",
       "      <th></th>\n",
       "      <th></th>\n",
       "    </tr>\n",
       "  </thead>\n",
       "  <tbody>\n",
       "    <tr>\n",
       "      <th>False</th>\n",
       "      <td>6064</td>\n",
       "      <td>278</td>\n",
       "      <td>6342</td>\n",
       "    </tr>\n",
       "    <tr>\n",
       "      <th>True</th>\n",
       "      <td>292</td>\n",
       "      <td>1009</td>\n",
       "      <td>1301</td>\n",
       "    </tr>\n",
       "    <tr>\n",
       "      <th>All</th>\n",
       "      <td>6356</td>\n",
       "      <td>1287</td>\n",
       "      <td>7643</td>\n",
       "    </tr>\n",
       "  </tbody>\n",
       "</table>\n",
       "</div>"
      ],
      "text/plain": [
       "Predicted  False  True   All\n",
       "Actual                      \n",
       "False       6064   278  6342\n",
       "True         292  1009  1301\n",
       "All         6356  1287  7643"
      ]
     },
     "execution_count": 122,
     "metadata": {},
     "output_type": "execute_result"
    }
   ],
   "source": [
    "render_confusion_matrix(Y_test, predictions)"
   ]
  },
  {
   "cell_type": "code",
   "execution_count": 124,
   "metadata": {
    "collapsed": false
   },
   "outputs": [
    {
     "name": "stdout",
     "output_type": "stream",
     "text": [
      "\n",
      "Accuracy:  0.92542195473\n",
      "\n",
      "             precision    recall  f1-score   support\n",
      "\n",
      "      False       0.95      0.96      0.96      6342\n",
      "       True       0.78      0.78      0.78      1301\n",
      "\n",
      "avg / total       0.93      0.93      0.93      7643\n",
      "\n"
     ]
    }
   ],
   "source": [
    "print\n",
    "print 'Accuracy: ', accuracy_score(Y_test, predictions)\n",
    "print\n",
    "print classification_report(Y_test, predictions)\n"
   ]
  },
  {
   "cell_type": "markdown",
   "metadata": {},
   "source": [
    "**As expected we improved the accuracy compared to the baseline classifier, and dramatically improved the recall on the positive documents - from 29% to 78%.**\n",
    "\n",
    "**Before we move on to optimize the classifier, let's look at some other interesting output type of Naive Bayes - some insightful output besides the predictions on the test data**"
   ]
  },
  {
   "cell_type": "markdown",
   "metadata": {},
   "source": [
    "## Get the indices of the elements that with wrong predictions"
   ]
  },
  {
   "cell_type": "code",
   "execution_count": 138,
   "metadata": {
    "collapsed": false
   },
   "outputs": [
    {
     "data": {
      "text/plain": [
       "[13,\n",
       " 24,\n",
       " 25,\n",
       " 41,\n",
       " 52,\n",
       " 80,\n",
       " 174,\n",
       " 246,\n",
       " 353,\n",
       " 416,\n",
       " 467,\n",
       " 731,\n",
       " 991,\n",
       " 1005,\n",
       " 1038,\n",
       " 1047,\n",
       " 1068,\n",
       " 1120,\n",
       " 1140,\n",
       " 1176]"
      ]
     },
     "execution_count": 138,
     "metadata": {},
     "output_type": "execute_result"
    }
   ],
   "source": [
    "iwrong_predictions = [i for i,v in enumerate(zip(Y_test, predictions)) if v[0] != v[1]]\n",
    "\n",
    "iwrong_predictions[:20]"
   ]
  },
  {
   "cell_type": "markdown",
   "metadata": {},
   "source": [
    "##  Probabilities of a particular classification\n",
    "\n",
    "Bayesian models like the Naive Bayes classifier have the nice property that they compute probabilities of a particular classification -- the `predict_proba` and `predict_log_proba` methods of `MultinomialNB` compute these probabilities. "
   ]
  },
  {
   "cell_type": "code",
   "execution_count": 139,
   "metadata": {
    "collapsed": false
   },
   "outputs": [],
   "source": [
    "proba = clf_nb.predict_proba(counts_test)\n",
    "log_proba = clf_nb.predict_log_proba(counts_test)"
   ]
  },
  {
   "cell_type": "code",
   "execution_count": 140,
   "metadata": {
    "collapsed": false
   },
   "outputs": [
    {
     "data": {
      "text/plain": [
       "array([[  1.00000000e+000,   2.94055710e-037],\n",
       "       [  1.00000000e+000,   2.56434674e-112],\n",
       "       [  9.99999993e-001,   7.36050607e-009],\n",
       "       [  1.00000000e+000,   3.67672356e-048],\n",
       "       [  1.00000000e+000,   2.17669993e-030],\n",
       "       [  1.00000000e+000,   1.25863592e-081],\n",
       "       [  1.00000000e+000,   2.47597297e-173],\n",
       "       [  1.00000000e+000,   2.14988957e-053],\n",
       "       [  1.00000000e+000,   5.70562372e-108],\n",
       "       [  1.00000000e+000,   4.42691208e-041]])"
      ]
     },
     "execution_count": 140,
     "metadata": {},
     "output_type": "execute_result"
    }
   ],
   "source": [
    "proba[:10]"
   ]
  },
  {
   "cell_type": "markdown",
   "metadata": {},
   "source": [
    "The output of `clf_nb.predict_proba(counts_test)` is a `(N example, 2)` array. The first column gives the probability $P(Y=0)$ or $P(False)$, and the second gives $P(Y=1)$ or $P(True)$."
   ]
  },
  {
   "cell_type": "markdown",
   "metadata": {},
   "source": [
    "**Commonly it is more comfortable to work with the log values of the probabilities - the results of `clf_nb.predict_log_proba`**"
   ]
  },
  {
   "cell_type": "markdown",
   "metadata": {},
   "source": [
    "## Calculate and plot the differences between the True and False probabilities"
   ]
  },
  {
   "cell_type": "code",
   "execution_count": 141,
   "metadata": {
    "collapsed": true
   },
   "outputs": [],
   "source": [
    "diff_prob = proba[:,1] - proba[:,0]\n",
    "diff_log_proba = log_proba[:,1] - log_proba[:,0]"
   ]
  },
  {
   "cell_type": "code",
   "execution_count": 142,
   "metadata": {
    "collapsed": false
   },
   "outputs": [
    {
     "name": "stdout",
     "output_type": "stream",
     "text": [
      "diff_prob:\n",
      "\n",
      "mean: -0.662949326315\n",
      "std: 0.746432184454\n",
      "\n",
      "diff_log_prob:\n",
      "\n",
      "mean: -94.3395679123\n",
      "std: 150.446111867\n"
     ]
    }
   ],
   "source": [
    "print 'diff_prob:\\n'\n",
    "print 'mean:',np.mean(diff_prob)\n",
    "print 'std:', np.std(diff_prob)\n",
    "\n",
    "print '\\ndiff_log_prob:\\n'\n",
    "print 'mean:', np.mean(diff_log_proba)\n",
    "print 'std:', np.std(diff_log_proba)\n"
   ]
  },
  {
   "cell_type": "code",
   "execution_count": 143,
   "metadata": {
    "collapsed": false
   },
   "outputs": [
    {
     "data": {
      "text/plain": [
       "array([-120.99198123, -105.33481755,  -45.92763286, -115.47860148,\n",
       "       -126.40541505, -158.90170764,   30.44267742,  -27.78738764,\n",
       "        404.37342916, -157.70848569])"
      ]
     },
     "execution_count": 143,
     "metadata": {},
     "output_type": "execute_result"
    }
   ],
   "source": [
    "diff_log_proba[-10:]"
   ]
  },
  {
   "cell_type": "markdown",
   "metadata": {},
   "source": [
    "### Distribution of the predictions on the test set, as function of the difference between the True/False log probabilities"
   ]
  },
  {
   "cell_type": "code",
   "execution_count": 149,
   "metadata": {
    "collapsed": false
   },
   "outputs": [
    {
     "data": {
      "text/plain": [
       "<matplotlib.lines.Line2D at 0x2962ad30>"
      ]
     },
     "execution_count": 149,
     "metadata": {},
     "output_type": "execute_result"
    },
    {
     "data": {
      "image/png": "[encoded data removed]",
      "text/plain": [
       "<matplotlib.figure.Figure at 0x2962a2b0>"
      ]
     },
     "metadata": {},
     "output_type": "display_data"
    }
   ],
   "source": [
    "# Plot  histogram.\n",
    "plt.hist(diff_log_proba, range=[-500, 500], bins=30, normed=True, alpha=0.5)\n",
    "plt.axvline(0, color='r')\n"
   ]
  },
  {
   "cell_type": "markdown",
   "metadata": {},
   "source": [
    "## Another view on the distribution of the prediction scores of our classifier"
   ]
  },
  {
   "cell_type": "markdown",
   "metadata": {},
   "source": [
    "### Divide the test set into 2 sets - True (blue) / False(red) - and plot them in a scatter plot"
   ]
  },
  {
   "cell_type": "code",
   "execution_count": 151,
   "metadata": {
    "collapsed": false
   },
   "outputs": [],
   "source": [
    "pospts = [v[1] for i,v in enumerate(zip(Y_test, diff_log_proba)) if v[0] == 1]\n",
    "negpts = [v[1] for i,v in enumerate(zip(Y_test, diff_log_proba)) if v[0] == 0]"
   ]
  },
  {
   "cell_type": "code",
   "execution_count": 202,
   "metadata": {
    "collapsed": false
   },
   "outputs": [
    {
     "data": {
      "image/png": "[encoded data removed]",
      "text/plain": [
       "<matplotlib.figure.Figure at 0x4ee50a20>"
      ]
     },
     "metadata": {},
     "output_type": "display_data"
    }
   ],
   "source": [
    "import random \n",
    "\n",
    "plt.scatter(\n",
    "    pospts, \n",
    "    np.random.uniform(0.9, 1.1, len(pospts)),\n",
    "    color='blue')\n",
    "\n",
    "plt.scatter(\n",
    "    negpts, \n",
    "    np.random.uniform(0.9, 1.1, len(negpts)),\n",
    "    color='red')\n",
    "\n",
    "plt.xlim(-500, 450)\n",
    "\n",
    "plt.ylim(0.8, 1.2)\n",
    "\n",
    "plt.axvline(0, color='r')\n",
    "\n",
    "values = np.array(diff_log_proba[iwrong_predictions])\n",
    "\n",
    "plt.axvspan(\n",
    "    np.mean(values)-2*np.std(values),\n",
    "    np.mean(values)+2*np.std(values), \n",
    "    facecolor='b', alpha=0.1)\n",
    "\n",
    "plt.axvline(np.mean(values), linewidth=1);"
   ]
  },
  {
   "cell_type": "markdown",
   "metadata": {},
   "source": [
    "## Optimizing the classification pipeline"
   ]
  },
  {
   "cell_type": "markdown",
   "metadata": {},
   "source": [
    "### Scorer function"
   ]
  },
  {
   "cell_type": "markdown",
   "metadata": {},
   "source": [
    "When optimizing parameters for classification pipeline we can write or define our own scoring function. The optimizing routine `GridSearchCV` which runs a **brute force parameter search**, will select the parameters that got the **highest** score.\n",
    "\n",
    "### What do we want to optimize exactly?\n",
    "\n",
    "When classifing medical documents, we sometimes want to **maximize sensitivity** (recall) while keeping specificity and accuracy in check. In other words - the sensitivity is our **target optimization parameter**. To maximize sensitivity, I'll define a scorer function that returns the recall score."
   ]
  },
  {
   "cell_type": "code",
   "execution_count": 199,
   "metadata": {
    "collapsed": true
   },
   "outputs": [],
   "source": [
    "from sklearn.metrics import recall_score, make_scorer\n",
    "\n",
    "# Define scorer function that returns the recall score\n",
    "recall_scorer = make_scorer(recall_score)"
   ]
  },
  {
   "cell_type": "markdown",
   "metadata": {},
   "source": [
    "Now we build a full pipeline and use the `GridSearchCV` sklearn utility to fit the best paramaters for the pipeline. Normally I use longer lists of parameters, but that takes hours to run.\n",
    "\n",
    "NOTE - we will use `GridSearchCV` default 3-fold cross-validation. Other cross-validation schemes can be defined if needed. "
   ]
  },
  {
   "cell_type": "code",
   "execution_count": 201,
   "metadata": {
    "collapsed": false
   },
   "outputs": [
    {
     "name": "stderr",
     "output_type": "stream",
     "text": [
      "[Parallel(n_jobs=1)]: Done   1 jobs       | elapsed:   17.2s\n",
      "[Parallel(n_jobs=1)]: Done  36 out of  36 | elapsed: 10.9min finished\n"
     ]
    },
    {
     "name": "stdout",
     "output_type": "stream",
     "text": [
      "Fitting 3 folds for each of 12 candidates, totalling 36 fits\n"
     ]
    },
    {
     "data": {
      "text/plain": [
       "GridSearchCV(cv=None, error_score='raise',\n",
       "       estimator=Pipeline(steps=[('vect', CountVectorizer(analyzer=u'word', binary=False, decode_error=u'strict',\n",
       "        dtype=<type 'numpy.int64'>, encoding=u'utf-8', input=u'content',\n",
       "        lowercase=True, max_df=1.0, max_features=None, min_df=1,\n",
       "        ngram_range=(1, 1), preprocessor=None, stop_words=None,\n",
       "        st...28>,\n",
       "        vocabulary=None)), ('clf', MultinomialNB(alpha=1.0, class_prior=None, fit_prior=True))]),\n",
       "       fit_params={}, iid=True, loss_func=None, n_jobs=1,\n",
       "       param_grid={'vect__ngram_range': ((1, 1), (1, 2)), 'vect__max_features': (20000, 30000), 'clf__alpha': (0.05, 0.1, 0.2)},\n",
       "       pre_dispatch='2*n_jobs', refit=True, score_func=None,\n",
       "       scoring=make_scorer(recall_score), verbose=1)"
      ]
     },
     "execution_count": 201,
     "metadata": {},
     "output_type": "execute_result"
    }
   ],
   "source": [
    "from sklearn.feature_extraction.text import TfidfTransformer\n",
    "from sklearn.grid_search import GridSearchCV\n",
    "from sklearn.pipeline import Pipeline\n",
    "\n",
    "pipeline = Pipeline([\n",
    "    ('vect', CountVectorizer(tokenizer=tokenize)),\n",
    "    ('clf', MultinomialNB())\n",
    "])\n",
    "\n",
    "# Define some possible parameters for feature extraction and for the classifier\n",
    "parameters = {\n",
    "    'vect__max_features': (20000, 30000),\n",
    "    'vect__ngram_range': ((1, 1), (1, 2)),  # unigrams or bigrams\n",
    "    'clf__alpha': (0.05, 0.1, 0.2)\n",
    "}\n",
    "\n",
    "# find the best parameters for both the feature extraction and the\n",
    "# classifier, based on the scorer function we defined\n",
    "grid_search = GridSearchCV(pipeline, parameters, verbose=1, scoring=recall_scorer)\n",
    "\n",
    "grid_search.fit(df_train['NOTE_TEXT'].tolist(), df_train.CATEGORY.tolist())"
   ]
  },
  {
   "cell_type": "code",
   "execution_count": 203,
   "metadata": {
    "collapsed": false
   },
   "outputs": [
    {
     "name": "stdout",
     "output_type": "stream",
     "text": [
      "Best parameters set found on development set:\n",
      "\n",
      "{'vect__ngram_range': (1, 1), 'vect__max_features': 30000, 'clf__alpha': 0.2}\n"
     ]
    }
   ],
   "source": [
    "print(\"Best parameters set found on development set:\")\n",
    "print\n",
    "print(grid_search.best_params_)"
   ]
  },
  {
   "cell_type": "markdown",
   "metadata": {},
   "source": [
    "## Try the optimized classifier on the test set and output the performance parameters"
   ]
  },
  {
   "cell_type": "code",
   "execution_count": 204,
   "metadata": {
    "collapsed": true
   },
   "outputs": [],
   "source": [
    "# Use the optimal classifier to make predictions on the test set\n",
    "\n",
    "opt_predictions = grid_search.predict(df_test['NOTE_TEXT'].tolist())"
   ]
  },
  {
   "cell_type": "code",
   "execution_count": 205,
   "metadata": {
    "collapsed": false
   },
   "outputs": [
    {
     "data": {
      "text/html": [
       "<div>\n",
       "<table border=\"1\" class=\"dataframe\">\n",
       "  <thead>\n",
       "    <tr style=\"text-align: right;\">\n",
       "      <th>Predicted</th>\n",
       "      <th>False</th>\n",
       "      <th>True</th>\n",
       "      <th>All</th>\n",
       "    </tr>\n",
       "    <tr>\n",
       "      <th>Actual</th>\n",
       "      <th></th>\n",
       "      <th></th>\n",
       "      <th></th>\n",
       "    </tr>\n",
       "  </thead>\n",
       "  <tbody>\n",
       "    <tr>\n",
       "      <th>False</th>\n",
       "      <td>5928</td>\n",
       "      <td>414</td>\n",
       "      <td>6342</td>\n",
       "    </tr>\n",
       "    <tr>\n",
       "      <th>True</th>\n",
       "      <td>240</td>\n",
       "      <td>1061</td>\n",
       "      <td>1301</td>\n",
       "    </tr>\n",
       "    <tr>\n",
       "      <th>All</th>\n",
       "      <td>6168</td>\n",
       "      <td>1475</td>\n",
       "      <td>7643</td>\n",
       "    </tr>\n",
       "  </tbody>\n",
       "</table>\n",
       "</div>"
      ],
      "text/plain": [
       "Predicted  False  True   All\n",
       "Actual                      \n",
       "False       5928   414  6342\n",
       "True         240  1061  1301\n",
       "All         6168  1475  7643"
      ]
     },
     "execution_count": 205,
     "metadata": {},
     "output_type": "execute_result"
    }
   ],
   "source": [
    "render_confusion_matrix(df_test.CATEGORY.tolist(), opt_predictions)"
   ]
  },
  {
   "cell_type": "code",
   "execution_count": 206,
   "metadata": {
    "collapsed": false
   },
   "outputs": [
    {
     "name": "stdout",
     "output_type": "stream",
     "text": [
      "\n",
      "Accuracy:  0.914431505953\n",
      "\n",
      "             precision    recall  f1-score   support\n",
      "\n",
      "      False       0.96      0.93      0.95      6342\n",
      "       True       0.72      0.82      0.76      1301\n",
      "\n",
      "avg / total       0.92      0.91      0.92      7643\n",
      "\n"
     ]
    }
   ],
   "source": [
    "print\n",
    "print 'Accuracy: ', accuracy_score(df_test.CATEGORY.tolist(), opt_predictions)\n",
    "print\n",
    "print classification_report(df_test.CATEGORY.tolist(), opt_predictions)\n"
   ]
  },
  {
   "cell_type": "markdown",
   "metadata": {},
   "source": [
    "Comparing the performance of the optimized classifier to the performance of the the classifier with the ad-hoc parameters shows, that while the accuracy of the optimized classifier is a bit lower (91% compared to 92%), the sensitivity for True documents, which is our target performance parameter, increased from 78% to 82%."
   ]
  },
  {
   "cell_type": "code",
   "execution_count": null,
   "metadata": {
    "collapsed": true
   },
   "outputs": [],
   "source": []
  }
 ],
 "metadata": {
  "kernelspec": {
   "display_name": "Python 2",
   "language": "python",
   "name": "python2"
  },
  "language_info": {
   "codemirror_mode": {
    "name": "ipython",
    "version": 2
   },
   "file_extension": ".py",
   "mimetype": "text/x-python",
   "name": "python",
   "nbconvert_exporter": "python",
   "pygments_lexer": "ipython2",
   "version": "2.7.10"
  }
 },
 "nbformat": 4,
 "nbformat_minor": 0
}
