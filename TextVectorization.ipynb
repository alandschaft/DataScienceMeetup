{
 "cells": [
  {
   "cell_type": "markdown",
   "metadata": {},
   "source": [
    "# Text Vectorization"
   ]
  },
  {
   "cell_type": "code",
   "execution_count": 22,
   "metadata": {
    "collapsed": true
   },
   "outputs": [],
   "source": [
    "# Import python libs\n",
    "\n",
    "import sqlite3 as sqlite       # work with sqlite databases\n",
    "import os                      # used to set working directory\n",
    "import pandas as pd            # process data with pandas dataframe\n",
    "import numpy as np"
   ]
  },
  {
   "cell_type": "code",
   "execution_count": 2,
   "metadata": {
    "collapsed": true
   },
   "outputs": [],
   "source": [
    "\n",
    "# Setup pandas display options\n",
    "\n",
    "pd.options.display.max_colwidth = 500"
   ]
  },
  {
   "cell_type": "code",
   "execution_count": 3,
   "metadata": {
    "collapsed": true
   },
   "outputs": [],
   "source": [
    "\n",
    "# Constants\n",
    "\n",
    "small_sqlite = \"example_db.sqlite\"\n"
   ]
  },
  {
   "cell_type": "code",
   "execution_count": 4,
   "metadata": {
    "collapsed": true
   },
   "outputs": [],
   "source": [
    "# Set working directory\n",
    "\n",
    "os.chdir('../Data/')\n"
   ]
  },
  {
   "cell_type": "code",
   "execution_count": 68,
   "metadata": {
    "collapsed": false
   },
   "outputs": [
    {
     "data": {
      "text/html": [
       "<div>\n",
       "<table border=\"1\" class=\"dataframe\">\n",
       "  <thead>\n",
       "    <tr style=\"text-align: right;\">\n",
       "      <th></th>\n",
       "      <th>DOCID</th>\n",
       "      <th>NOTE_TEXT</th>\n",
       "      <th>CATEGORY</th>\n",
       "    </tr>\n",
       "  </thead>\n",
       "  <tbody>\n",
       "    <tr>\n",
       "      <th>0</th>\n",
       "      <td>1</td>\n",
       "      <td>The Cologne Carnival is a carnival that takes place every year in Cologne. Traditionally, the carnival season is declared open at 11 minutes past 11 on the 11th of the 11th month November.</td>\n",
       "      <td>A</td>\n",
       "    </tr>\n",
       "    <tr>\n",
       "      <th>1</th>\n",
       "      <td>2</td>\n",
       "      <td>Every Cologne Carnival there are 3 people who are granted the titles of Virgin, Prince, and Farmer. By tradition, the prince is deemed to be the highest representative of the festivities.</td>\n",
       "      <td>B</td>\n",
       "    </tr>\n",
       "  </tbody>\n",
       "</table>\n",
       "</div>"
      ],
      "text/plain": [
       "  DOCID  \\\n",
       "0     1   \n",
       "1     2   \n",
       "\n",
       "                                                                                                                                                                                       NOTE_TEXT  \\\n",
       "0  The Cologne Carnival is a carnival that takes place every year in Cologne. Traditionally, the carnival season is declared open at 11 minutes past 11 on the 11th of the 11th month November.    \n",
       "1    Every Cologne Carnival there are 3 people who are granted the titles of Virgin, Prince, and Farmer. By tradition, the prince is deemed to be the highest representative of the festivities.   \n",
       "\n",
       "  CATEGORY  \n",
       "0        A  \n",
       "1        B  "
      ]
     },
     "execution_count": 68,
     "metadata": {},
     "output_type": "execute_result"
    }
   ],
   "source": [
    "\n",
    "# Read sqlite query results into a pandas DataFrame\n",
    "con = sqlite.connect(small_sqlite)\n",
    "\n",
    "df = pd.read_sql_query(\"SELECT * from Documents\", con)\n",
    "\n",
    "con.close()\n",
    "\n",
    "df.head()"
   ]
  },
  {
   "cell_type": "code",
   "execution_count": null,
   "metadata": {
    "collapsed": true
   },
   "outputs": [],
   "source": []
  },
  {
   "cell_type": "code",
   "execution_count": 56,
   "metadata": {
    "collapsed": true
   },
   "outputs": [],
   "source": [
    "from sklearn.feature_extraction.text import CountVectorizer"
   ]
  },
  {
   "cell_type": "code",
   "execution_count": 57,
   "metadata": {
    "collapsed": true
   },
   "outputs": [],
   "source": [
    "vectorizer = CountVectorizer()"
   ]
  },
  {
   "cell_type": "code",
   "execution_count": 58,
   "metadata": {
    "collapsed": false
   },
   "outputs": [
    {
     "data": {
      "text/plain": [
       "<2x41 sparse matrix of type '<type 'numpy.int64'>'\n",
       "\twith 47 stored elements in Compressed Sparse Row format>"
      ]
     },
     "execution_count": 58,
     "metadata": {},
     "output_type": "execute_result"
    }
   ],
   "source": [
    "X = vectorizer.fit_transform(df['NOTE_TEXT'].tolist())\n",
    "\n",
    "X"
   ]
  },
  {
   "cell_type": "code",
   "execution_count": 59,
   "metadata": {
    "collapsed": false
   },
   "outputs": [
    {
     "data": {
      "text/plain": [
       "array([[2, 2, 0, 0, 1, 0, 0, 3, 2, 1, 0, 1, 0, 0, 0, 0, 1, 2, 1, 1, 1, 1,\n",
       "        1, 1, 1, 0, 1, 0, 0, 1, 1, 1, 4, 0, 0, 0, 0, 1, 0, 0, 1],\n",
       "       [0, 0, 1, 2, 0, 1, 1, 1, 1, 0, 1, 1, 1, 1, 1, 1, 0, 1, 0, 0, 0, 2,\n",
       "        0, 0, 0, 1, 0, 4, 1, 0, 0, 0, 4, 1, 1, 1, 1, 0, 1, 1, 0]], dtype=int64)"
      ]
     },
     "execution_count": 59,
     "metadata": {},
     "output_type": "execute_result"
    }
   ],
   "source": [
    "X.toarray()"
   ]
  },
  {
   "cell_type": "code",
   "execution_count": 60,
   "metadata": {
    "collapsed": false
   },
   "outputs": [
    {
     "data": {
      "text/plain": [
       "[u'11',\n",
       " u'11th',\n",
       " u'and',\n",
       " u'are',\n",
       " u'at',\n",
       " u'be',\n",
       " u'by',\n",
       " u'carnival',\n",
       " u'cologne',\n",
       " u'declared',\n",
       " u'deemed',\n",
       " u'every',\n",
       " u'farmer',\n",
       " u'festivities',\n",
       " u'granted',\n",
       " u'highest',\n",
       " u'in',\n",
       " u'is',\n",
       " u'minutes',\n",
       " u'month',\n",
       " u'november',\n",
       " u'of',\n",
       " u'on',\n",
       " u'open',\n",
       " u'past',\n",
       " u'people',\n",
       " u'place',\n",
       " u'prince',\n",
       " u'representative',\n",
       " u'season',\n",
       " u'takes',\n",
       " u'that',\n",
       " u'the',\n",
       " u'there',\n",
       " u'titles',\n",
       " u'to',\n",
       " u'tradition',\n",
       " u'traditionally',\n",
       " u'virgin',\n",
       " u'who',\n",
       " u'year']"
      ]
     },
     "execution_count": 60,
     "metadata": {},
     "output_type": "execute_result"
    }
   ],
   "source": [
    "vectorizer.get_feature_names()"
   ]
  },
  {
   "cell_type": "markdown",
   "metadata": {},
   "source": [
    "##### Let's remove stop words and include bigrams..."
   ]
  },
  {
   "cell_type": "code",
   "execution_count": 61,
   "metadata": {
    "collapsed": false
   },
   "outputs": [
    {
     "data": {
      "text/plain": [
       "[u'11',\n",
       " u'11 11th',\n",
       " u'11 minutes',\n",
       " u'11th',\n",
       " u'11th 11th',\n",
       " u'11th month',\n",
       " u'carnival',\n",
       " u'carnival carnival',\n",
       " u'carnival people',\n",
       " u'carnival season',\n",
       " u'carnival takes',\n",
       " u'cologne',\n",
       " u'cologne carnival',\n",
       " u'cologne traditionally',\n",
       " u'declared',\n",
       " u'declared open',\n",
       " u'deemed',\n",
       " u'deemed highest',\n",
       " u'farmer',\n",
       " u'farmer tradition',\n",
       " u'festivities',\n",
       " u'festivities prince',\n",
       " u'granted',\n",
       " u'granted titles',\n",
       " u'highest',\n",
       " u'highest representative',\n",
       " u'minutes',\n",
       " u'minutes past',\n",
       " u'month',\n",
       " u'month november',\n",
       " u'november',\n",
       " u'open',\n",
       " u'open 11',\n",
       " u'past',\n",
       " u'past 11',\n",
       " u'people',\n",
       " u'people granted',\n",
       " u'place',\n",
       " u'place year',\n",
       " u'prince',\n",
       " u'prince deemed',\n",
       " u'prince farmer',\n",
       " u'prince prince',\n",
       " u'representative',\n",
       " u'representative festivities',\n",
       " u'season',\n",
       " u'season declared',\n",
       " u'takes',\n",
       " u'takes place',\n",
       " u'titles',\n",
       " u'titles virgin',\n",
       " u'tradition',\n",
       " u'tradition prince',\n",
       " u'traditionally',\n",
       " u'traditionally carnival',\n",
       " u'virgin',\n",
       " u'virgin prince',\n",
       " u'year',\n",
       " u'year cologne']"
      ]
     },
     "execution_count": 61,
     "metadata": {},
     "output_type": "execute_result"
    }
   ],
   "source": [
    "vectorizer2 = CountVectorizer(stop_words='english', ngram_range=(1, 2))\n",
    "X2 = vectorizer2.fit_transform(df['NOTE_TEXT'].tolist())\n",
    "vectorizer2.get_feature_names()"
   ]
  },
  {
   "cell_type": "markdown",
   "metadata": {},
   "source": [
    "## tf-idf weighting\n",
    "\n",
    "* tf - Term Frequency\n",
    "* idf - Inverse Document Frequency"
   ]
  },
  {
   "cell_type": "markdown",
   "metadata": {},
   "source": [
    "* The tf-idf weight of a term is the product of its tf weight and its idf weight.\n",
    "\n",
    "$W_{t,d} = log(1+tf_{t,d}) \\cdot log_{10}(\\frac{N}{df_{t}})$\n",
    "\n",
    "* Best known weighting scheme in information retrieval\n",
    "\n",
    "* Note: the “-” in tf-idf is a hyphen, not a minus sign!\n",
    "\n",
    "* Increases with the number of occurrences within a document\n",
    "\n",
    "* Increases with the rarity of the term in the collection"
   ]
  },
  {
   "cell_type": "code",
   "execution_count": 65,
   "metadata": {
    "collapsed": false
   },
   "outputs": [],
   "source": [
    "from sklearn.feature_extraction.text import TfidfTransformer\n",
    "\n",
    "transformer = TfidfTransformer(use_idf=True)\n",
    "tfidf_result = transformer.fit_transform(X2)"
   ]
  },
  {
   "cell_type": "code",
   "execution_count": 66,
   "metadata": {
    "collapsed": true
   },
   "outputs": [],
   "source": [
    "def display_scores(vectorizer, tfidf_result):\n",
    "    scores = zip(vectorizer.get_feature_names(),\n",
    "                 np.asarray(tfidf_result.sum(axis=0)).ravel())\n",
    "    sorted_scores = sorted(scores, key=lambda x: x[1], reverse=True)\n",
    "    for item in sorted_scores:\n",
    "        print \"{0:20} Score: {1}\".format(item[0], item[1])\n"
   ]
  },
  {
   "cell_type": "code",
   "execution_count": 67,
   "metadata": {
    "collapsed": false
   },
   "outputs": [
    {
     "name": "stdout",
     "output_type": "stream",
     "text": [
      "prince               Score: 0.620780335148\n",
      "carnival             Score: 0.431895108609\n",
      "cologne              Score: 0.324737599179\n",
      "11                   Score: 0.30121228115\n",
      "11th                 Score: 0.30121228115\n",
      "cologne carnival     Score: 0.21758008975\n",
      "carnival people      Score: 0.155195083787\n",
      "deemed               Score: 0.155195083787\n",
      "deemed highest       Score: 0.155195083787\n",
      "farmer               Score: 0.155195083787\n",
      "farmer tradition     Score: 0.155195083787\n",
      "festivities          Score: 0.155195083787\n",
      "festivities prince   Score: 0.155195083787\n",
      "granted              Score: 0.155195083787\n",
      "granted titles       Score: 0.155195083787\n",
      "highest              Score: 0.155195083787\n",
      "highest representative Score: 0.155195083787\n",
      "people               Score: 0.155195083787\n",
      "people granted       Score: 0.155195083787\n",
      "prince deemed        Score: 0.155195083787\n",
      "prince farmer        Score: 0.155195083787\n",
      "prince prince        Score: 0.155195083787\n",
      "representative       Score: 0.155195083787\n",
      "representative festivities Score: 0.155195083787\n",
      "titles               Score: 0.155195083787\n",
      "titles virgin        Score: 0.155195083787\n",
      "tradition            Score: 0.155195083787\n",
      "tradition prince     Score: 0.155195083787\n",
      "virgin               Score: 0.155195083787\n",
      "virgin prince        Score: 0.155195083787\n",
      "11 11th              Score: 0.150606140575\n",
      "11 minutes           Score: 0.150606140575\n",
      "11th 11th            Score: 0.150606140575\n",
      "11th month           Score: 0.150606140575\n",
      "carnival carnival    Score: 0.150606140575\n",
      "carnival season      Score: 0.150606140575\n",
      "carnival takes       Score: 0.150606140575\n",
      "cologne traditionally Score: 0.150606140575\n",
      "declared             Score: 0.150606140575\n",
      "declared open        Score: 0.150606140575\n",
      "minutes              Score: 0.150606140575\n",
      "minutes past         Score: 0.150606140575\n",
      "month                Score: 0.150606140575\n",
      "month november       Score: 0.150606140575\n",
      "november             Score: 0.150606140575\n",
      "open                 Score: 0.150606140575\n",
      "open 11              Score: 0.150606140575\n",
      "past                 Score: 0.150606140575\n",
      "past 11              Score: 0.150606140575\n",
      "place                Score: 0.150606140575\n",
      "place year           Score: 0.150606140575\n",
      "season               Score: 0.150606140575\n",
      "season declared      Score: 0.150606140575\n",
      "takes                Score: 0.150606140575\n",
      "takes place          Score: 0.150606140575\n",
      "traditionally        Score: 0.150606140575\n",
      "traditionally carnival Score: 0.150606140575\n",
      "year                 Score: 0.150606140575\n",
      "year cologne         Score: 0.150606140575\n"
     ]
    }
   ],
   "source": [
    "display_scores(vectorizer2, tfidf_result)"
   ]
  },
  {
   "cell_type": "code",
   "execution_count": 15,
   "metadata": {
    "collapsed": false
   },
   "outputs": [],
   "source": [
    "\n",
    "from nltk.stem.porter import *\n",
    "from nltk.tokenize import word_tokenize\n",
    "import string\n",
    "\n",
    "stemmer = PorterStemmer()\n",
    "def stem_tokens(tokens, stemmer):\n",
    "    stemmed = []\n",
    "    for item in tokens:\n",
    "        stemmed.append(stemmer.stem(item))\n",
    "    return stemmed\n",
    "\n",
    "def tokenize(text):\n",
    "    tokens = word_tokenize(text)\n",
    "    tokens = [i for i in tokens if i not in string.punctuation]\n",
    "    stems = stem_tokens(tokens, stemmer)\n",
    "    return stems\n"
   ]
  },
  {
   "cell_type": "code",
   "execution_count": 16,
   "metadata": {
    "collapsed": false
   },
   "outputs": [
    {
     "data": {
      "text/plain": [
       "[u'11',\n",
       " u'11 11th',\n",
       " u'11 minut',\n",
       " u'11th',\n",
       " u'11th 11th',\n",
       " u'11th month',\n",
       " u'3',\n",
       " u'3 peopl',\n",
       " u'carniv',\n",
       " u'carniv 3',\n",
       " u'carniv carniv',\n",
       " u'carniv place',\n",
       " u'carniv season',\n",
       " u'cologn',\n",
       " u'cologn carniv',\n",
       " u'cologn tradit',\n",
       " u'declar',\n",
       " u'declar open',\n",
       " u'deem',\n",
       " u'deem highest',\n",
       " u'everi',\n",
       " u'everi cologn',\n",
       " u'everi year',\n",
       " u'farmer',\n",
       " u'farmer tradit',\n",
       " u'festiv',\n",
       " u'grant',\n",
       " u'grant titl',\n",
       " u'highest',\n",
       " u'highest repres',\n",
       " u'minut',\n",
       " u'minut past',\n",
       " u'month',\n",
       " u'month novemb',\n",
       " u'novemb',\n",
       " u'open',\n",
       " u'open 11',\n",
       " u'past',\n",
       " u'past 11',\n",
       " u'peopl',\n",
       " u'peopl grant',\n",
       " u'place',\n",
       " u'place everi',\n",
       " u'princ',\n",
       " u'princ deem',\n",
       " u'princ farmer',\n",
       " u'repres',\n",
       " u'repres festiv',\n",
       " u'season',\n",
       " u'season declar',\n",
       " u'titl',\n",
       " u'titl virgin',\n",
       " u'tradit',\n",
       " u'tradit carniv',\n",
       " u'tradit princ',\n",
       " u'virgin',\n",
       " u'virgin princ',\n",
       " u'year',\n",
       " u'year cologn']"
      ]
     },
     "execution_count": 16,
     "metadata": {},
     "output_type": "execute_result"
    }
   ],
   "source": [
    "vectorizer3 = CountVectorizer(tokenizer=tokenize, stop_words='english', ngram_range=(1, 2))\n",
    "X3 = vectorizer3.fit_transform(df['NOTE_TEXT'].tolist())\n",
    "vectorizer3.get_feature_names()"
   ]
  }
 ],
 "metadata": {
  "kernelspec": {
   "display_name": "Python 2",
   "language": "python",
   "name": "python2"
  },
  "language_info": {
   "codemirror_mode": {
    "name": "ipython",
    "version": 2
   },
   "file_extension": ".py",
   "mimetype": "text/x-python",
   "name": "python",
   "nbconvert_exporter": "python",
   "pygments_lexer": "ipython2",
   "version": "2.7.10"
  }
 },
 "nbformat": 4,
 "nbformat_minor": 0
}
